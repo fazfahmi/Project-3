{
 "cells": [
  {
   "cell_type": "markdown",
   "metadata": {},
   "source": [
    "# Preface\n",
    "\n",
    "#### Milestone 1\n",
    "\n",
    "Nama : Fahmi\n",
    "\n",
    "Batch : RMT-034\n",
    "\n",
    "Objective:\n",
    "Project ini dilakukan untuk menganalisis hal-hal yang bisa meningkatkan penjualan komoditas di e-commerce.\n",
    "\n",
    "URL Dashboard = https://public.tableau.com/views/MilestoneFahmi1/Dashboard1?:language=en-US&publish=yes&:sid=&:redirect=auth&:display_count=n&:origin=viz_share_link\n",
    "\n",
    "URL Kaggle = https://www.kaggle.com/datasets/thedevastator/unlock-profits-with-e-commerce-sales-data/data"
   ]
  },
  {
   "cell_type": "markdown",
   "metadata": {},
   "source": [
    "# Identifikasi Masaslah"
   ]
  },
  {
   "cell_type": "markdown",
   "metadata": {},
   "source": [
    "## Latar Belakang & Topik Permasalahan\n",
    "\n",
    "Sebagai seorang Data Analyst, saya ditugaskan untuk menyelesaikan suatu permasalahan client dari India. Mereka mengharapkan sekali hasil analisis data menggunakan statistik dan dashboard visualisasi. Itu dilakukan demi menyelesaikan masalah mereka, yakni peningkatan penjualan pakaian mereka di e-commerce Amazon India."
   ]
  },
  {
   "cell_type": "markdown",
   "metadata": {},
   "source": [
    "## Mendefinisikan Problem Statements\n",
    "\n",
    "Dengan menggunakan framework SMART\n",
    "\n",
    "1. **Spesific**: Meningkatkan volume penjualan pakaian di platform e-commerce Amazon India\n",
    "\n",
    "2. **Measureable**: Meningkatkan jumlah transaksi (number of transacsitions) sebanyak 20 persen\n",
    "\n",
    "3. **Achievable**: Melakukan riset pasar, memberikan penawaran menarik (diskon, product bundling), melakukan evalusi produk yang beredar\n",
    "\n",
    "4. **Relevant**: Meningkatkan volume penjualan berdampak pada bertambahnya omzet\n",
    "\n",
    "5. **Time Bound**: Tercapai pada semester depan (6 bulan lagi)\n",
    "\n",
    "\n",
    "`Problem Statement`:\n",
    "\n",
    "Golnya ialah meningkatkan volume penjualan di e-commerce Amazon India dengan menargetkan peningkatkan jumlah transaksi hingga 20 persen pada 6 bulan mendatang. Itu bisa tercapai jika dilakukan riset pasar, pemberian penawaran menarik, dan melakukan evaluasi produk yang beredar, yang pada akhirnya dapat meningkatkan omzet.\n",
    "\n",
    "\n",
    "`Business Metric`:\n",
    "\n",
    "- Kolom `Amount` = berisi besaran total belanja pada setiap transaksi. \n",
    "\n",
    "- Kolom  `Qty` = berisi jumlah barang pesanan setiap transaksi."
   ]
  },
  {
   "cell_type": "markdown",
   "metadata": {},
   "source": [
    "## Penjabaran Masalah\n",
    "\n",
    "Problem utama: `Meningkatkan jumlah transaksi sebagai metrik dari volume penjualan`\n",
    "\n",
    "Untuk itu, pertama-tama kita perlu memahami detail dari problem dengan menggunakan framework 5W + 1 H sebagai berikut.\n",
    "\n",
    "- Kategori produk apa yang paling diminati? Yang paling tidak diminati? (deskriptif)\n",
    "- Faktor apa saja yang mempengaruhi peningkatan jumlah transaksi? (inferential)\n",
    "- Bagaimana kebiasaan customer saat membeli? (deskriptif)\n",
    "- Berapa jumlah transaksi (number of sales transacsition)? (visualisasi)\n",
    "- Berapa sales volume berdasarkan kategori produk (sales volume by product category)? (visualisasi)\n",
    "- Berapa sales volume berdasarkan periode waktu (sales volume by time period)? (visualisasi)\n",
    "- Berapa sales volume berdasarkan location (sales volume by location)? (visualisasi)"
   ]
  },
  {
   "cell_type": "markdown",
   "metadata": {},
   "source": [
    "# Data Loading"
   ]
  },
  {
   "cell_type": "markdown",
   "metadata": {},
   "source": [
    "## Libraries\n",
    "\n",
    "Pertama-tama, kita meng-import dahulu sejumlah pustaka dan modul yang kita butuhkan nantinya"
   ]
  },
  {
   "cell_type": "code",
   "execution_count": 1,
   "metadata": {},
   "outputs": [],
   "source": [
    "# Import pustaka pandas untuk memanipulasi data\n",
    "import pandas as pd\n",
    "\n",
    "# Import fungsi chi2_contingency dari pustaka scipy stats\n",
    "from scipy.stats import chi2_contingency\n",
    "\n",
    "# import matplotlib untuk membuat grafik atau chart\n",
    "import matplotlib.pyplot as plt\n",
    "\n",
    "# import seaborn untuk membuat grafik atau chart\n",
    "import seaborn as sns"
   ]
  },
  {
   "cell_type": "markdown",
   "metadata": {},
   "source": [
    "## Mengakses Data\n",
    "\n",
    "Kita mengakses file csv `Amazon Sale Report` untuk selanjutnya nanti diolah dan digunakan pada analisis ini."
   ]
  },
  {
   "cell_type": "code",
   "execution_count": 2,
   "metadata": {},
   "outputs": [
    {
     "name": "stderr",
     "output_type": "stream",
     "text": [
      "C:\\Users\\Lenovo\\AppData\\Local\\Temp\\ipykernel_4040\\4167836290.py:2: DtypeWarning: Columns (23) have mixed types. Specify dtype option on import or set low_memory=False.\n",
      "  transaksi_df = pd.read_csv(\"Amazon Sale Report.csv\")\n"
     ]
    }
   ],
   "source": [
    "# File CSV dibuatkan dataframe bernama `transaksi_df` \n",
    "transaksi_df = pd.read_csv(\"Amazon Sale Report.csv\")"
   ]
  },
  {
   "cell_type": "markdown",
   "metadata": {},
   "source": [
    "Berikut tampilan dari dataframe `transaksi_df` beserta kolom-kolom dan value-value-nya"
   ]
  },
  {
   "cell_type": "code",
   "execution_count": 3,
   "metadata": {},
   "outputs": [
    {
     "data": {
      "text/html": [
       "<div>\n",
       "<style scoped>\n",
       "    .dataframe tbody tr th:only-of-type {\n",
       "        vertical-align: middle;\n",
       "    }\n",
       "\n",
       "    .dataframe tbody tr th {\n",
       "        vertical-align: top;\n",
       "    }\n",
       "\n",
       "    .dataframe thead th {\n",
       "        text-align: right;\n",
       "    }\n",
       "</style>\n",
       "<table border=\"1\" class=\"dataframe\">\n",
       "  <thead>\n",
       "    <tr style=\"text-align: right;\">\n",
       "      <th></th>\n",
       "      <th>index</th>\n",
       "      <th>Order ID</th>\n",
       "      <th>Date</th>\n",
       "      <th>Status</th>\n",
       "      <th>Fulfilment</th>\n",
       "      <th>Sales Channel</th>\n",
       "      <th>ship-service-level</th>\n",
       "      <th>Style</th>\n",
       "      <th>SKU</th>\n",
       "      <th>Category</th>\n",
       "      <th>...</th>\n",
       "      <th>currency</th>\n",
       "      <th>Amount</th>\n",
       "      <th>ship-city</th>\n",
       "      <th>ship-state</th>\n",
       "      <th>ship-postal-code</th>\n",
       "      <th>ship-country</th>\n",
       "      <th>promotion-ids</th>\n",
       "      <th>B2B</th>\n",
       "      <th>fulfilled-by</th>\n",
       "      <th>Unnamed: 22</th>\n",
       "    </tr>\n",
       "  </thead>\n",
       "  <tbody>\n",
       "    <tr>\n",
       "      <th>48634</th>\n",
       "      <td>48634</td>\n",
       "      <td>408-0310159-5341929</td>\n",
       "      <td>04-01-22</td>\n",
       "      <td>Shipped</td>\n",
       "      <td>Amazon</td>\n",
       "      <td>Amazon.in</td>\n",
       "      <td>Standard</td>\n",
       "      <td>SET349</td>\n",
       "      <td>SET349-KR-NP-L</td>\n",
       "      <td>Set</td>\n",
       "      <td>...</td>\n",
       "      <td>INR</td>\n",
       "      <td>0.0</td>\n",
       "      <td>CHANDIGARH</td>\n",
       "      <td>CHANDIGARH</td>\n",
       "      <td>160047.0</td>\n",
       "      <td>IN</td>\n",
       "      <td>NaN</td>\n",
       "      <td>False</td>\n",
       "      <td>NaN</td>\n",
       "      <td>NaN</td>\n",
       "    </tr>\n",
       "    <tr>\n",
       "      <th>55240</th>\n",
       "      <td>55240</td>\n",
       "      <td>407-0480049-5369114</td>\n",
       "      <td>05-27-22</td>\n",
       "      <td>Shipped</td>\n",
       "      <td>Amazon</td>\n",
       "      <td>Amazon.in</td>\n",
       "      <td>Expedited</td>\n",
       "      <td>SET316</td>\n",
       "      <td>SET316-KR-DPT-XXXL</td>\n",
       "      <td>Set</td>\n",
       "      <td>...</td>\n",
       "      <td>INR</td>\n",
       "      <td>1238.0</td>\n",
       "      <td>THIRUVANANTHAPURAM</td>\n",
       "      <td>KERALA</td>\n",
       "      <td>695024.0</td>\n",
       "      <td>IN</td>\n",
       "      <td>IN Core Free Shipping 2015/04/08 23-48-5-108</td>\n",
       "      <td>False</td>\n",
       "      <td>NaN</td>\n",
       "      <td>False</td>\n",
       "    </tr>\n",
       "    <tr>\n",
       "      <th>117192</th>\n",
       "      <td>117192</td>\n",
       "      <td>404-2663032-6743526</td>\n",
       "      <td>06-08-22</td>\n",
       "      <td>Shipped</td>\n",
       "      <td>Amazon</td>\n",
       "      <td>Amazon.in</td>\n",
       "      <td>Expedited</td>\n",
       "      <td>SET304</td>\n",
       "      <td>SET304-KR-DPT-XS</td>\n",
       "      <td>Set</td>\n",
       "      <td>...</td>\n",
       "      <td>INR</td>\n",
       "      <td>1125.0</td>\n",
       "      <td>BENGALURU</td>\n",
       "      <td>KARNATAKA</td>\n",
       "      <td>560103.0</td>\n",
       "      <td>IN</td>\n",
       "      <td>NaN</td>\n",
       "      <td>False</td>\n",
       "      <td>NaN</td>\n",
       "      <td>False</td>\n",
       "    </tr>\n",
       "    <tr>\n",
       "      <th>42538</th>\n",
       "      <td>42538</td>\n",
       "      <td>408-5354743-5715564</td>\n",
       "      <td>04-05-22</td>\n",
       "      <td>Cancelled</td>\n",
       "      <td>Amazon</td>\n",
       "      <td>Amazon.in</td>\n",
       "      <td>Expedited</td>\n",
       "      <td>JNE3645</td>\n",
       "      <td>JNE3645-TP-N-XL</td>\n",
       "      <td>Top</td>\n",
       "      <td>...</td>\n",
       "      <td>NaN</td>\n",
       "      <td>NaN</td>\n",
       "      <td>BENGALURU</td>\n",
       "      <td>KARNATAKA</td>\n",
       "      <td>560066.0</td>\n",
       "      <td>IN</td>\n",
       "      <td>NaN</td>\n",
       "      <td>False</td>\n",
       "      <td>NaN</td>\n",
       "      <td>NaN</td>\n",
       "    </tr>\n",
       "    <tr>\n",
       "      <th>89787</th>\n",
       "      <td>89787</td>\n",
       "      <td>403-1221931-7554742</td>\n",
       "      <td>05-01-22</td>\n",
       "      <td>Shipped</td>\n",
       "      <td>Amazon</td>\n",
       "      <td>Amazon.in</td>\n",
       "      <td>Expedited</td>\n",
       "      <td>JNE3805</td>\n",
       "      <td>JNE3805-KR-S</td>\n",
       "      <td>kurta</td>\n",
       "      <td>...</td>\n",
       "      <td>INR</td>\n",
       "      <td>459.0</td>\n",
       "      <td>TIRUCHIRAPPALLI</td>\n",
       "      <td>TAMIL NADU</td>\n",
       "      <td>620019.0</td>\n",
       "      <td>IN</td>\n",
       "      <td>IN Core Free Shipping 2015/04/08 23-48-5-108</td>\n",
       "      <td>False</td>\n",
       "      <td>NaN</td>\n",
       "      <td>False</td>\n",
       "    </tr>\n",
       "  </tbody>\n",
       "</table>\n",
       "<p>5 rows × 24 columns</p>\n",
       "</div>"
      ],
      "text/plain": [
       "         index             Order ID      Date     Status Fulfilment  \\\n",
       "48634    48634  408-0310159-5341929  04-01-22    Shipped     Amazon   \n",
       "55240    55240  407-0480049-5369114  05-27-22    Shipped     Amazon   \n",
       "117192  117192  404-2663032-6743526  06-08-22    Shipped     Amazon   \n",
       "42538    42538  408-5354743-5715564  04-05-22  Cancelled     Amazon   \n",
       "89787    89787  403-1221931-7554742  05-01-22    Shipped     Amazon   \n",
       "\n",
       "       Sales Channel  ship-service-level    Style                 SKU  \\\n",
       "48634       Amazon.in           Standard   SET349      SET349-KR-NP-L   \n",
       "55240       Amazon.in          Expedited   SET316  SET316-KR-DPT-XXXL   \n",
       "117192      Amazon.in          Expedited   SET304    SET304-KR-DPT-XS   \n",
       "42538       Amazon.in          Expedited  JNE3645     JNE3645-TP-N-XL   \n",
       "89787       Amazon.in          Expedited  JNE3805        JNE3805-KR-S   \n",
       "\n",
       "       Category  ... currency  Amount           ship-city  ship-state  \\\n",
       "48634       Set  ...      INR     0.0          CHANDIGARH  CHANDIGARH   \n",
       "55240       Set  ...      INR  1238.0  THIRUVANANTHAPURAM      KERALA   \n",
       "117192      Set  ...      INR  1125.0           BENGALURU   KARNATAKA   \n",
       "42538       Top  ...      NaN     NaN           BENGALURU   KARNATAKA   \n",
       "89787     kurta  ...      INR   459.0     TIRUCHIRAPPALLI  TAMIL NADU   \n",
       "\n",
       "       ship-postal-code  ship-country  \\\n",
       "48634          160047.0            IN   \n",
       "55240          695024.0            IN   \n",
       "117192         560103.0            IN   \n",
       "42538          560066.0            IN   \n",
       "89787          620019.0            IN   \n",
       "\n",
       "                                       promotion-ids    B2B  fulfilled-by  \\\n",
       "48634                                            NaN  False           NaN   \n",
       "55240   IN Core Free Shipping 2015/04/08 23-48-5-108  False           NaN   \n",
       "117192                                           NaN  False           NaN   \n",
       "42538                                            NaN  False           NaN   \n",
       "89787   IN Core Free Shipping 2015/04/08 23-48-5-108  False           NaN   \n",
       "\n",
       "       Unnamed: 22  \n",
       "48634          NaN  \n",
       "55240        False  \n",
       "117192       False  \n",
       "42538          NaN  \n",
       "89787        False  \n",
       "\n",
       "[5 rows x 24 columns]"
      ]
     },
     "execution_count": 3,
     "metadata": {},
     "output_type": "execute_result"
    }
   ],
   "source": [
    "# Tampilkan 5 sampelnya\n",
    "transaksi_df.sample(5)"
   ]
  },
  {
   "cell_type": "markdown",
   "metadata": {},
   "source": [
    "Terlihat ada sejumlah kolom yang tak memiliki nilai atau bernilai NaN/None (biasa disebut sebagai missing value). Untuk lebih jelasnya kita lihat summary/ ringkasan informasi kolom sebagai berikut."
   ]
  },
  {
   "cell_type": "code",
   "execution_count": 4,
   "metadata": {},
   "outputs": [
    {
     "name": "stdout",
     "output_type": "stream",
     "text": [
      "<class 'pandas.core.frame.DataFrame'>\n",
      "RangeIndex: 128975 entries, 0 to 128974\n",
      "Data columns (total 24 columns):\n",
      " #   Column              Non-Null Count   Dtype  \n",
      "---  ------              --------------   -----  \n",
      " 0   index               128975 non-null  int64  \n",
      " 1   Order ID            128975 non-null  object \n",
      " 2   Date                128975 non-null  object \n",
      " 3   Status              128975 non-null  object \n",
      " 4   Fulfilment          128975 non-null  object \n",
      " 5   Sales Channel       128975 non-null  object \n",
      " 6   ship-service-level  128975 non-null  object \n",
      " 7   Style               128975 non-null  object \n",
      " 8   SKU                 128975 non-null  object \n",
      " 9   Category            128975 non-null  object \n",
      " 10  Size                128975 non-null  object \n",
      " 11  ASIN                128975 non-null  object \n",
      " 12  Courier Status      122103 non-null  object \n",
      " 13  Qty                 128975 non-null  int64  \n",
      " 14  currency            121180 non-null  object \n",
      " 15  Amount              121180 non-null  float64\n",
      " 16  ship-city           128942 non-null  object \n",
      " 17  ship-state          128942 non-null  object \n",
      " 18  ship-postal-code    128942 non-null  float64\n",
      " 19  ship-country        128942 non-null  object \n",
      " 20  promotion-ids       79822 non-null   object \n",
      " 21  B2B                 128975 non-null  bool   \n",
      " 22  fulfilled-by        39277 non-null   object \n",
      " 23  Unnamed: 22         79925 non-null   object \n",
      "dtypes: bool(1), float64(2), int64(2), object(19)\n",
      "memory usage: 22.8+ MB\n"
     ]
    }
   ],
   "source": [
    "# Mengecek summary informasi dataframe\n",
    "transaksi_df.info()"
   ]
  },
  {
   "cell_type": "markdown",
   "metadata": {},
   "source": [
    "- Terlihat dari summary di atas, terdapat 23 kolom dengan jumlah baris sebanyak 128.975. \n",
    "- Kolom `Date` masih bertipe object. Untuk itu, nantinya perlu diubah menjadi tipe `datetime`.\n",
    "- Kemudian, dari kolom `Date` tersebut akan diekstrak bulan dan tahunnya untuk menjadi kolom baru, `Month` dan `Year`. \n",
    "- Kedua kolom itu akan memudahkan saat analisis yang menggunakan waktu sebagai acuan."
   ]
  },
  {
   "cell_type": "markdown",
   "metadata": {},
   "source": [
    "Untuk memudahkan coding, kita perlu memastikan nama kolom, apakah sudah konsisten atau tidak, seperti ada spasi di awal atau akhir penamaannya."
   ]
  },
  {
   "cell_type": "code",
   "execution_count": 5,
   "metadata": {},
   "outputs": [
    {
     "data": {
      "text/plain": [
       "Index(['index', 'Order ID', 'Date', 'Status', 'Fulfilment', 'Sales Channel ',\n",
       "       'ship-service-level', 'Style', 'SKU', 'Category', 'Size', 'ASIN',\n",
       "       'Courier Status', 'Qty', 'currency', 'Amount', 'ship-city',\n",
       "       'ship-state', 'ship-postal-code', 'ship-country', 'promotion-ids',\n",
       "       'B2B', 'fulfilled-by', 'Unnamed: 22'],\n",
       "      dtype='object')"
      ]
     },
     "execution_count": 5,
     "metadata": {},
     "output_type": "execute_result"
    }
   ],
   "source": [
    "# Mengecek penulisan nama kolom\n",
    "transaksi_df.columns"
   ]
  },
  {
   "cell_type": "markdown",
   "metadata": {},
   "source": [
    "Diketahui bahwa penulisan kolom `Sales Channel` masih memiliki whitespace pada bagian akhirnya, maka perlu dilakukan cleaning"
   ]
  },
  {
   "cell_type": "markdown",
   "metadata": {},
   "source": [
    "Selanjutnya mengecek missing value, kolom mana saja yang memiliki missing value dan berapa banyak. "
   ]
  },
  {
   "cell_type": "code",
   "execution_count": 6,
   "metadata": {},
   "outputs": [
    {
     "data": {
      "text/plain": [
       "index                     0\n",
       "Order ID                  0\n",
       "Date                      0\n",
       "Status                    0\n",
       "Fulfilment                0\n",
       "Sales Channel             0\n",
       "ship-service-level        0\n",
       "Style                     0\n",
       "SKU                       0\n",
       "Category                  0\n",
       "Size                      0\n",
       "ASIN                      0\n",
       "Courier Status         6872\n",
       "Qty                       0\n",
       "currency               7795\n",
       "Amount                 7795\n",
       "ship-city                33\n",
       "ship-state               33\n",
       "ship-postal-code         33\n",
       "ship-country             33\n",
       "promotion-ids         49153\n",
       "B2B                       0\n",
       "fulfilled-by          89698\n",
       "Unnamed: 22           49050\n",
       "dtype: int64"
      ]
     },
     "execution_count": 6,
     "metadata": {},
     "output_type": "execute_result"
    }
   ],
   "source": [
    "# Mengecek missing value\n",
    "transaksi_df.isna().sum()"
   ]
  },
  {
   "cell_type": "markdown",
   "metadata": {},
   "source": [
    "- Dari summary di atas, tampak banyak kolom yang memiliki missing value yang nantinya perlu kita handling.\n",
    "\n",
    "- Adapun khusus untuk kolom `index`,`Unnamed: 22`, `fulfilled-by`, dan `promotion-ids`, saya merasa kolom-kolom itu tidak esensial sehingga lebih baik dihapus.\n",
    "\n",
    "- Saya juga menghapus kolom `ASIN`. ASIN sendiri merupakan singkatan dair Amazon Standar Identification Number yang berupa kode alfanumerik yang dikeluarkan Amazon sendiri mengidentifikasi produk. Sementara itu, di dataset itu, sudah memiliki identifikasi produk lain, yakni SKU.\n",
    "\n",
    "- Saya pun memutuskan untuk menghapus kolom `ship-city` dan `ship-postal-code` karena sudah diwakili dengan `ship-state` dan `ship-country`"
   ]
  },
  {
   "cell_type": "markdown",
   "metadata": {},
   "source": [
    "Selanjutnya saya berasumsi bahwa kolom `currency` (mata uang) tidak penting karena transaksi kebanyakan menggunakan mata uang INR (Rupee India). Mari kita buktikan"
   ]
  },
  {
   "cell_type": "code",
   "execution_count": 7,
   "metadata": {},
   "outputs": [
    {
     "data": {
      "text/plain": [
       "array(['INR', nan], dtype=object)"
      ]
     },
     "execution_count": 7,
     "metadata": {},
     "output_type": "execute_result"
    }
   ],
   "source": [
    "# Cek unique value `currency`\n",
    "transaksi_df['currency'].unique()"
   ]
  },
  {
   "cell_type": "markdown",
   "metadata": {},
   "source": [
    "Hasilnya benar-benar hanya INR dan selebihnya missing value. Maka itu, saya juga memutuskan akan menghapus kolom `currency`."
   ]
  },
  {
   "cell_type": "markdown",
   "metadata": {},
   "source": [
    "Hasilnya benar-benar hanya INR dan selebihnya missing value. Maka itu, saya memutuskan pula untuk menghapus kolom `ship-country`."
   ]
  },
  {
   "cell_type": "markdown",
   "metadata": {},
   "source": [
    "Berikutnya, kita akan mengecek apakah ada data duplikat dari dataframe `transaksi_df`"
   ]
  },
  {
   "cell_type": "code",
   "execution_count": 8,
   "metadata": {},
   "outputs": [
    {
     "data": {
      "text/plain": [
       "0"
      ]
     },
     "execution_count": 8,
     "metadata": {},
     "output_type": "execute_result"
    }
   ],
   "source": [
    "# Cek duplicated value\n",
    "transaksi_df.duplicated().sum()"
   ]
  },
  {
   "cell_type": "markdown",
   "metadata": {},
   "source": [
    "Walhasil tidak ada data duplikat sehingga tidak diperlukan handling untuk duplicated value pada tahap selanjutnya."
   ]
  },
  {
   "cell_type": "markdown",
   "metadata": {},
   "source": [
    "Kita beranjak ke lingkup yang lebih kecil, yakni values. Ada 2 kejanggalan yang saya temukan:\n",
    "\n",
    "1. Pesanan yang status pengirimannya `Shipped` atau sudah terkirim, tetapi besaran total belanjanya (`Amount`) = 0.  Misalnya berikut ini"
   ]
  },
  {
   "cell_type": "code",
   "execution_count": 9,
   "metadata": {},
   "outputs": [
    {
     "data": {
      "text/html": [
       "<div>\n",
       "<style scoped>\n",
       "    .dataframe tbody tr th:only-of-type {\n",
       "        vertical-align: middle;\n",
       "    }\n",
       "\n",
       "    .dataframe tbody tr th {\n",
       "        vertical-align: top;\n",
       "    }\n",
       "\n",
       "    .dataframe thead th {\n",
       "        text-align: right;\n",
       "    }\n",
       "</style>\n",
       "<table border=\"1\" class=\"dataframe\">\n",
       "  <thead>\n",
       "    <tr style=\"text-align: right;\">\n",
       "      <th></th>\n",
       "      <th>Order ID</th>\n",
       "      <th>Status</th>\n",
       "      <th>Fulfilment</th>\n",
       "      <th>Courier Status</th>\n",
       "      <th>Amount</th>\n",
       "    </tr>\n",
       "  </thead>\n",
       "  <tbody>\n",
       "    <tr>\n",
       "      <th>385</th>\n",
       "      <td>408-3137526-3167563</td>\n",
       "      <td>Shipped</td>\n",
       "      <td>Amazon</td>\n",
       "      <td>Shipped</td>\n",
       "      <td>0.0</td>\n",
       "    </tr>\n",
       "    <tr>\n",
       "      <th>392</th>\n",
       "      <td>408-0912805-7526753</td>\n",
       "      <td>Shipped</td>\n",
       "      <td>Amazon</td>\n",
       "      <td>Shipped</td>\n",
       "      <td>0.0</td>\n",
       "    </tr>\n",
       "    <tr>\n",
       "      <th>436</th>\n",
       "      <td>408-6466311-6949931</td>\n",
       "      <td>Shipped</td>\n",
       "      <td>Amazon</td>\n",
       "      <td>Shipped</td>\n",
       "      <td>0.0</td>\n",
       "    </tr>\n",
       "    <tr>\n",
       "      <th>446</th>\n",
       "      <td>408-7937211-8974712</td>\n",
       "      <td>Shipped</td>\n",
       "      <td>Amazon</td>\n",
       "      <td>Shipped</td>\n",
       "      <td>0.0</td>\n",
       "    </tr>\n",
       "    <tr>\n",
       "      <th>449</th>\n",
       "      <td>408-6348199-2089932</td>\n",
       "      <td>Shipped</td>\n",
       "      <td>Amazon</td>\n",
       "      <td>Shipped</td>\n",
       "      <td>0.0</td>\n",
       "    </tr>\n",
       "  </tbody>\n",
       "</table>\n",
       "</div>"
      ],
      "text/plain": [
       "                Order ID   Status Fulfilment Courier Status  Amount\n",
       "385  408-3137526-3167563  Shipped     Amazon        Shipped     0.0\n",
       "392  408-0912805-7526753  Shipped     Amazon        Shipped     0.0\n",
       "436  408-6466311-6949931  Shipped     Amazon        Shipped     0.0\n",
       "446  408-7937211-8974712  Shipped     Amazon        Shipped     0.0\n",
       "449  408-6348199-2089932  Shipped     Amazon        Shipped     0.0"
      ]
     },
     "execution_count": 9,
     "metadata": {},
     "output_type": "execute_result"
    }
   ],
   "source": [
    "# mengecek kejanggalan row dengan `status` == `shipped`, tetapi `amount` == 0\n",
    "transaksi_df[(transaksi_df.Status == 'Shipped') & (transaksi_df.Amount == 0)][['Order ID', 'Status', 'Fulfilment','Courier Status','Amount']].head(5)"
   ]
  },
  {
   "cell_type": "markdown",
   "metadata": {},
   "source": [
    "2. Pesanan yang status pengirimannya `Cancelled` atau dibatalkan, tetapi besaran total belanjanya (`Amount`) != (bukanlah) 0 sebagai berikut."
   ]
  },
  {
   "cell_type": "code",
   "execution_count": 10,
   "metadata": {},
   "outputs": [
    {
     "data": {
      "text/html": [
       "<div>\n",
       "<style scoped>\n",
       "    .dataframe tbody tr th:only-of-type {\n",
       "        vertical-align: middle;\n",
       "    }\n",
       "\n",
       "    .dataframe tbody tr th {\n",
       "        vertical-align: top;\n",
       "    }\n",
       "\n",
       "    .dataframe thead th {\n",
       "        text-align: right;\n",
       "    }\n",
       "</style>\n",
       "<table border=\"1\" class=\"dataframe\">\n",
       "  <thead>\n",
       "    <tr style=\"text-align: right;\">\n",
       "      <th></th>\n",
       "      <th>Order ID</th>\n",
       "      <th>Status</th>\n",
       "      <th>Fulfilment</th>\n",
       "      <th>Courier Status</th>\n",
       "      <th>Amount</th>\n",
       "    </tr>\n",
       "  </thead>\n",
       "  <tbody>\n",
       "    <tr>\n",
       "      <th>0</th>\n",
       "      <td>405-8078784-5731545</td>\n",
       "      <td>Cancelled</td>\n",
       "      <td>Merchant</td>\n",
       "      <td>NaN</td>\n",
       "      <td>647.62</td>\n",
       "    </tr>\n",
       "    <tr>\n",
       "      <th>3</th>\n",
       "      <td>403-9615377-8133951</td>\n",
       "      <td>Cancelled</td>\n",
       "      <td>Merchant</td>\n",
       "      <td>NaN</td>\n",
       "      <td>753.33</td>\n",
       "    </tr>\n",
       "    <tr>\n",
       "      <th>8</th>\n",
       "      <td>407-5443024-5233168</td>\n",
       "      <td>Cancelled</td>\n",
       "      <td>Amazon</td>\n",
       "      <td>Cancelled</td>\n",
       "      <td>NaN</td>\n",
       "    </tr>\n",
       "    <tr>\n",
       "      <th>23</th>\n",
       "      <td>404-6019946-2909948</td>\n",
       "      <td>Cancelled</td>\n",
       "      <td>Merchant</td>\n",
       "      <td>NaN</td>\n",
       "      <td>570.48</td>\n",
       "    </tr>\n",
       "    <tr>\n",
       "      <th>29</th>\n",
       "      <td>404-5933402-8801952</td>\n",
       "      <td>Cancelled</td>\n",
       "      <td>Merchant</td>\n",
       "      <td>NaN</td>\n",
       "      <td>NaN</td>\n",
       "    </tr>\n",
       "  </tbody>\n",
       "</table>\n",
       "</div>"
      ],
      "text/plain": [
       "               Order ID     Status Fulfilment Courier Status  Amount\n",
       "0   405-8078784-5731545  Cancelled   Merchant            NaN  647.62\n",
       "3   403-9615377-8133951  Cancelled   Merchant            NaN  753.33\n",
       "8   407-5443024-5233168  Cancelled     Amazon      Cancelled     NaN\n",
       "23  404-6019946-2909948  Cancelled   Merchant            NaN  570.48\n",
       "29  404-5933402-8801952  Cancelled   Merchant            NaN     NaN"
      ]
     },
     "execution_count": 10,
     "metadata": {},
     "output_type": "execute_result"
    }
   ],
   "source": [
    "# Mengecek kejanggalan row dengan `status` == `cancelled`, tetapi `amount` != 0\n",
    "transaksi_df[(transaksi_df['Status'] == 'Cancelled') & (transaksi_df.Amount != 0)][['Order ID', 'Status', 'Fulfilment','Courier Status','Amount']].head()"
   ]
  },
  {
   "cell_type": "markdown",
   "metadata": {},
   "source": [
    "Lalu ada berapa bariskah yang memiliki 2 kejanggalan berikut? Mari kita hitung."
   ]
  },
  {
   "cell_type": "code",
   "execution_count": 11,
   "metadata": {},
   "outputs": [
    {
     "data": {
      "text/plain": [
       "False    109125\n",
       "True      19850\n",
       "Name: count, dtype: int64"
      ]
     },
     "execution_count": 11,
     "metadata": {},
     "output_type": "execute_result"
    }
   ],
   "source": [
    "# Mengecek banyaknya row yang sesuai dengan kedua kondisi tersebut\n",
    "transaksi_df.value_counts([((transaksi_df.Status == 'Cancelled') & (transaksi_df.Amount != 0)) | (transaksi_df.Status == 'Shipped') & (transaksi_df.Amount == 0)])"
   ]
  },
  {
   "cell_type": "markdown",
   "metadata": {},
   "source": [
    "Total ada 19.850 yang memiliki kejanggalan. Ke depannya, kita akan menghapus baris-baris tersebut. Karena selain agar analisis kita bisa seakurat mungkin, jumlah puluhan ribu itu tidak akan terlalu mempengaruhi analisis kita yang masih memiliki ratusan ribu baris lainnya. "
   ]
  },
  {
   "cell_type": "markdown",
   "metadata": {},
   "source": [
    "Syahdan, kita mengecek penulisan pada kolom. Saya menduga ada ketidakkonsistenan pada kapitalisasi penulisan value di kolom `ship-state`."
   ]
  },
  {
   "cell_type": "code",
   "execution_count": 12,
   "metadata": {},
   "outputs": [
    {
     "data": {
      "text/html": [
       "<div>\n",
       "<style scoped>\n",
       "    .dataframe tbody tr th:only-of-type {\n",
       "        vertical-align: middle;\n",
       "    }\n",
       "\n",
       "    .dataframe tbody tr th {\n",
       "        vertical-align: top;\n",
       "    }\n",
       "\n",
       "    .dataframe thead th {\n",
       "        text-align: right;\n",
       "    }\n",
       "</style>\n",
       "<table border=\"1\" class=\"dataframe\">\n",
       "  <thead>\n",
       "    <tr style=\"text-align: right;\">\n",
       "      <th></th>\n",
       "      <th>Category</th>\n",
       "      <th>ship-state</th>\n",
       "    </tr>\n",
       "  </thead>\n",
       "  <tbody>\n",
       "    <tr>\n",
       "      <th>108977</th>\n",
       "      <td>Set</td>\n",
       "      <td>Rajasthan</td>\n",
       "    </tr>\n",
       "    <tr>\n",
       "      <th>66184</th>\n",
       "      <td>Set</td>\n",
       "      <td>Rajasthan</td>\n",
       "    </tr>\n",
       "    <tr>\n",
       "      <th>45082</th>\n",
       "      <td>Set</td>\n",
       "      <td>Rajasthan</td>\n",
       "    </tr>\n",
       "    <tr>\n",
       "      <th>19633</th>\n",
       "      <td>Top</td>\n",
       "      <td>Rajasthan</td>\n",
       "    </tr>\n",
       "    <tr>\n",
       "      <th>23728</th>\n",
       "      <td>kurta</td>\n",
       "      <td>Rajasthan</td>\n",
       "    </tr>\n",
       "  </tbody>\n",
       "</table>\n",
       "</div>"
      ],
      "text/plain": [
       "       Category ship-state\n",
       "108977      Set  Rajasthan\n",
       "66184       Set  Rajasthan\n",
       "45082       Set  Rajasthan\n",
       "19633       Top  Rajasthan\n",
       "23728     kurta  Rajasthan"
      ]
     },
     "execution_count": 12,
     "metadata": {},
     "output_type": "execute_result"
    }
   ],
   "source": [
    "# mengecek adakah baris yang memenuhi salah satu kondisi di bawah ini\n",
    "transaksi_df[(transaksi_df['ship-state'] == 'rajasthan') | (transaksi_df['ship-state'] == 'Rajasthan')][['Category', 'ship-state']].sample(5)"
   ]
  },
  {
   "cell_type": "markdown",
   "metadata": {},
   "source": [
    "- Ada yang penulisannya `Rajasthan`, ada pula yang `rajasthan`. Untuk itu, perlu disamakan.\n",
    "- Saya pun akan melakukan persamaan case penulisan untuk kolom `Category` agar lebih rapi karena seperti yang dilihat di atas, penulisan `kurta` dan `Set` tidak seragam."
   ]
  },
  {
   "cell_type": "markdown",
   "metadata": {},
   "source": [
    "Berikutnya, saya akan mengecek values yang tidak konsisten. Mungkin sebenarnya maksudnya sama, tetapi bentuk penulisannya berbeda"
   ]
  },
  {
   "cell_type": "code",
   "execution_count": 13,
   "metadata": {},
   "outputs": [
    {
     "data": {
      "text/plain": [
       "ship-state\n",
       "MAHARASHTRA               22260\n",
       "KARNATAKA                 17326\n",
       "TAMIL NADU                11483\n",
       "TELANGANA                 11330\n",
       "UTTAR PRADESH             10638\n",
       "                          ...  \n",
       "Mizoram                       1\n",
       "rajsthan                      1\n",
       "Punjab/Mohali/Zirakpur        1\n",
       "Rajsthan                      1\n",
       "orissa                        1\n",
       "Name: count, Length: 69, dtype: int64"
      ]
     },
     "execution_count": 13,
     "metadata": {},
     "output_type": "execute_result"
    }
   ],
   "source": [
    "# cek unique value beserta frekuensi kemunculannya\n",
    "transaksi_df['ship-state'].value_counts()"
   ]
  },
  {
   "cell_type": "markdown",
   "metadata": {},
   "source": [
    "Diketahui sejumlah values sebenarnya memiliki maksud yang sama, tetapi ternyata dianggap merupakan value yang berbeda pada dataframe ini, seperti state `Orissa` yang merupakan nama di masa lalu dari `Odisha`. Atau juga seperti `New Delhi` yang dimaksud dalam konteks ini ialah `Delhi` selaku state. "
   ]
  },
  {
   "cell_type": "markdown",
   "metadata": {},
   "source": [
    "# Data Cleaning"
   ]
  },
  {
   "cell_type": "markdown",
   "metadata": {},
   "source": [
    "## Menghapus kolom yang tak diperlukan \n",
    "\n",
    "- Seperti yang kita rencanakan sebelumnya, kita akan menghapus 8 kolom yang kita anggap tidak penting dalam analiis ini. \n",
    "\n",
    "- Mereka ialah kolom 'Unnamed: 22','fulfilled-by','promotion-ids', 'currency', 'ASIN','index', 'ship-city', dan 'ship-postal-code'."
   ]
  },
  {
   "cell_type": "code",
   "execution_count": 14,
   "metadata": {},
   "outputs": [
    {
     "data": {
      "text/plain": [
       "Index(['index', 'Order ID', 'Date', 'Status', 'Fulfilment', 'Sales Channel ',\n",
       "       'ship-service-level', 'Style', 'SKU', 'Category', 'Size', 'ASIN',\n",
       "       'Courier Status', 'Qty', 'currency', 'Amount', 'ship-city',\n",
       "       'ship-state', 'ship-postal-code', 'ship-country', 'promotion-ids',\n",
       "       'B2B', 'fulfilled-by', 'Unnamed: 22'],\n",
       "      dtype='object')"
      ]
     },
     "execution_count": 14,
     "metadata": {},
     "output_type": "execute_result"
    }
   ],
   "source": [
    "# Cek nama-nama kolom sebelum penghapusan\n",
    "transaksi_df.columns"
   ]
  },
  {
   "cell_type": "markdown",
   "metadata": {},
   "source": [
    "Di atas adalah nama-nama kolom sebelum dihapus. Barulah kemudian, kita hapus."
   ]
  },
  {
   "cell_type": "code",
   "execution_count": 15,
   "metadata": {},
   "outputs": [],
   "source": [
    "# hapus kolom yang tidak diinginkan\n",
    "transaksi_df = transaksi_df.drop(columns=['Unnamed: 22','fulfilled-by','promotion-ids', 'currency', 'ASIN','index', 'ship-city','ship-postal-code'])"
   ]
  },
  {
   "cell_type": "code",
   "execution_count": 16,
   "metadata": {},
   "outputs": [
    {
     "data": {
      "text/plain": [
       "Index(['Order ID', 'Date', 'Status', 'Fulfilment', 'Sales Channel ',\n",
       "       'ship-service-level', 'Style', 'SKU', 'Category', 'Size',\n",
       "       'Courier Status', 'Qty', 'Amount', 'ship-state', 'ship-country', 'B2B'],\n",
       "      dtype='object')"
      ]
     },
     "execution_count": 16,
     "metadata": {},
     "output_type": "execute_result"
    }
   ],
   "source": [
    "# cek nama-nama kolom lagi setelah penghapusan\n",
    "transaksi_df.columns"
   ]
  },
  {
   "cell_type": "markdown",
   "metadata": {},
   "source": [
    "Ke-8 kolom tersebut sudah benar-benar terhapus. Dengan begini, kita bisa lebih efektif dalam menganalisis. "
   ]
  },
  {
   "cell_type": "markdown",
   "metadata": {},
   "source": [
    "## Mengganti Tipe Data Kolom Date\n",
    "\n",
    "Sebelum itu, mari kita lihat tipe kolom `Date`"
   ]
  },
  {
   "cell_type": "code",
   "execution_count": 17,
   "metadata": {},
   "outputs": [
    {
     "data": {
      "text/plain": [
       "Order ID               object\n",
       "Date                   object\n",
       "Status                 object\n",
       "Fulfilment             object\n",
       "Sales Channel          object\n",
       "ship-service-level     object\n",
       "Style                  object\n",
       "SKU                    object\n",
       "Category               object\n",
       "Size                   object\n",
       "Courier Status         object\n",
       "Qty                     int64\n",
       "Amount                float64\n",
       "ship-state             object\n",
       "ship-country           object\n",
       "B2B                      bool\n",
       "dtype: object"
      ]
     },
     "execution_count": 17,
     "metadata": {},
     "output_type": "execute_result"
    }
   ],
   "source": [
    "# cek tipe data kolom `date`\n",
    "transaksi_df.dtypes"
   ]
  },
  {
   "cell_type": "markdown",
   "metadata": {},
   "source": [
    "Kolom `Date` terlihat masih bertipe object. Mari kita ubah lalu cek kembali tipe datanya."
   ]
  },
  {
   "cell_type": "code",
   "execution_count": 18,
   "metadata": {},
   "outputs": [
    {
     "name": "stderr",
     "output_type": "stream",
     "text": [
      "C:\\Users\\Lenovo\\AppData\\Local\\Temp\\ipykernel_4040\\3166512315.py:2: UserWarning: Could not infer format, so each element will be parsed individually, falling back to `dateutil`. To ensure parsing is consistent and as-expected, please specify a format.\n",
      "  transaksi_df['Date'] = pd.to_datetime(transaksi_df['Date'])\n"
     ]
    }
   ],
   "source": [
    "# mengubah tipe data Date\n",
    "transaksi_df['Date'] = pd.to_datetime(transaksi_df['Date'])"
   ]
  },
  {
   "cell_type": "code",
   "execution_count": 19,
   "metadata": {},
   "outputs": [
    {
     "data": {
      "text/plain": [
       "Order ID                      object\n",
       "Date                  datetime64[ns]\n",
       "Status                        object\n",
       "Fulfilment                    object\n",
       "Sales Channel                 object\n",
       "ship-service-level            object\n",
       "Style                         object\n",
       "SKU                           object\n",
       "Category                      object\n",
       "Size                          object\n",
       "Courier Status                object\n",
       "Qty                            int64\n",
       "Amount                       float64\n",
       "ship-state                    object\n",
       "ship-country                  object\n",
       "B2B                             bool\n",
       "dtype: object"
      ]
     },
     "execution_count": 19,
     "metadata": {},
     "output_type": "execute_result"
    }
   ],
   "source": [
    "# cek tipe data kolom `date`\n",
    "transaksi_df.dtypes"
   ]
  },
  {
   "cell_type": "markdown",
   "metadata": {},
   "source": [
    "Kini, kolom `Date` sudah bertipe `datetime`."
   ]
  },
  {
   "cell_type": "markdown",
   "metadata": {},
   "source": [
    "##  Menambahkan Kolom Year dan Month\n",
    "\n",
    "Sebelumnya, mari kita lihat tampilan dataframe terlebih dahulu."
   ]
  },
  {
   "cell_type": "code",
   "execution_count": 20,
   "metadata": {},
   "outputs": [
    {
     "data": {
      "text/html": [
       "<div>\n",
       "<style scoped>\n",
       "    .dataframe tbody tr th:only-of-type {\n",
       "        vertical-align: middle;\n",
       "    }\n",
       "\n",
       "    .dataframe tbody tr th {\n",
       "        vertical-align: top;\n",
       "    }\n",
       "\n",
       "    .dataframe thead th {\n",
       "        text-align: right;\n",
       "    }\n",
       "</style>\n",
       "<table border=\"1\" class=\"dataframe\">\n",
       "  <thead>\n",
       "    <tr style=\"text-align: right;\">\n",
       "      <th></th>\n",
       "      <th>Order ID</th>\n",
       "      <th>Date</th>\n",
       "      <th>Status</th>\n",
       "      <th>Fulfilment</th>\n",
       "      <th>Sales Channel</th>\n",
       "      <th>ship-service-level</th>\n",
       "      <th>Style</th>\n",
       "      <th>SKU</th>\n",
       "      <th>Category</th>\n",
       "      <th>Size</th>\n",
       "      <th>Courier Status</th>\n",
       "      <th>Qty</th>\n",
       "      <th>Amount</th>\n",
       "      <th>ship-state</th>\n",
       "      <th>ship-country</th>\n",
       "      <th>B2B</th>\n",
       "    </tr>\n",
       "  </thead>\n",
       "  <tbody>\n",
       "    <tr>\n",
       "      <th>71226</th>\n",
       "      <td>403-0602325-7050722</td>\n",
       "      <td>2022-05-14</td>\n",
       "      <td>Shipped - Delivered to Buyer</td>\n",
       "      <td>Merchant</td>\n",
       "      <td>Amazon.in</td>\n",
       "      <td>Standard</td>\n",
       "      <td>SET322</td>\n",
       "      <td>SET322-KR-SHA-L</td>\n",
       "      <td>Set</td>\n",
       "      <td>L</td>\n",
       "      <td>Shipped</td>\n",
       "      <td>1</td>\n",
       "      <td>1099.00</td>\n",
       "      <td>BIHAR</td>\n",
       "      <td>IN</td>\n",
       "      <td>False</td>\n",
       "    </tr>\n",
       "    <tr>\n",
       "      <th>66688</th>\n",
       "      <td>408-5267336-1775543</td>\n",
       "      <td>2022-05-17</td>\n",
       "      <td>Shipped</td>\n",
       "      <td>Amazon</td>\n",
       "      <td>Amazon.in</td>\n",
       "      <td>Expedited</td>\n",
       "      <td>SET058</td>\n",
       "      <td>SET058-KR-NP-M</td>\n",
       "      <td>Set</td>\n",
       "      <td>M</td>\n",
       "      <td>Shipped</td>\n",
       "      <td>1</td>\n",
       "      <td>0.00</td>\n",
       "      <td>KARNATAKA</td>\n",
       "      <td>IN</td>\n",
       "      <td>False</td>\n",
       "    </tr>\n",
       "    <tr>\n",
       "      <th>74562</th>\n",
       "      <td>404-6782834-5135552</td>\n",
       "      <td>2022-05-11</td>\n",
       "      <td>Shipped - Delivered to Buyer</td>\n",
       "      <td>Merchant</td>\n",
       "      <td>Amazon.in</td>\n",
       "      <td>Standard</td>\n",
       "      <td>J0117</td>\n",
       "      <td>J0117-TP-XL</td>\n",
       "      <td>Top</td>\n",
       "      <td>XL</td>\n",
       "      <td>Shipped</td>\n",
       "      <td>1</td>\n",
       "      <td>545.00</td>\n",
       "      <td>MAHARASHTRA</td>\n",
       "      <td>IN</td>\n",
       "      <td>False</td>\n",
       "    </tr>\n",
       "    <tr>\n",
       "      <th>101387</th>\n",
       "      <td>407-0537507-9275547</td>\n",
       "      <td>2022-06-20</td>\n",
       "      <td>Cancelled</td>\n",
       "      <td>Merchant</td>\n",
       "      <td>Amazon.in</td>\n",
       "      <td>Standard</td>\n",
       "      <td>JNE3798</td>\n",
       "      <td>JNE3798-KR-XXXL</td>\n",
       "      <td>Western Dress</td>\n",
       "      <td>3XL</td>\n",
       "      <td>NaN</td>\n",
       "      <td>0</td>\n",
       "      <td>690.48</td>\n",
       "      <td>Gujarat</td>\n",
       "      <td>IN</td>\n",
       "      <td>False</td>\n",
       "    </tr>\n",
       "    <tr>\n",
       "      <th>22592</th>\n",
       "      <td>406-7779042-3907539</td>\n",
       "      <td>2022-04-17</td>\n",
       "      <td>Shipped - Delivered to Buyer</td>\n",
       "      <td>Merchant</td>\n",
       "      <td>Amazon.in</td>\n",
       "      <td>Standard</td>\n",
       "      <td>SET217</td>\n",
       "      <td>SET217-KR-PP-XXXL</td>\n",
       "      <td>Set</td>\n",
       "      <td>3XL</td>\n",
       "      <td>Shipped</td>\n",
       "      <td>1</td>\n",
       "      <td>825.00</td>\n",
       "      <td>KARNATAKA</td>\n",
       "      <td>IN</td>\n",
       "      <td>False</td>\n",
       "    </tr>\n",
       "  </tbody>\n",
       "</table>\n",
       "</div>"
      ],
      "text/plain": [
       "                   Order ID       Date                        Status  \\\n",
       "71226   403-0602325-7050722 2022-05-14  Shipped - Delivered to Buyer   \n",
       "66688   408-5267336-1775543 2022-05-17                       Shipped   \n",
       "74562   404-6782834-5135552 2022-05-11  Shipped - Delivered to Buyer   \n",
       "101387  407-0537507-9275547 2022-06-20                     Cancelled   \n",
       "22592   406-7779042-3907539 2022-04-17  Shipped - Delivered to Buyer   \n",
       "\n",
       "       Fulfilment Sales Channel  ship-service-level    Style  \\\n",
       "71226    Merchant      Amazon.in           Standard   SET322   \n",
       "66688      Amazon      Amazon.in          Expedited   SET058   \n",
       "74562    Merchant      Amazon.in           Standard    J0117   \n",
       "101387   Merchant      Amazon.in           Standard  JNE3798   \n",
       "22592    Merchant      Amazon.in           Standard   SET217   \n",
       "\n",
       "                      SKU       Category Size Courier Status  Qty   Amount  \\\n",
       "71226     SET322-KR-SHA-L            Set    L        Shipped    1  1099.00   \n",
       "66688      SET058-KR-NP-M            Set    M        Shipped    1     0.00   \n",
       "74562         J0117-TP-XL            Top   XL        Shipped    1   545.00   \n",
       "101387    JNE3798-KR-XXXL  Western Dress  3XL            NaN    0   690.48   \n",
       "22592   SET217-KR-PP-XXXL            Set  3XL        Shipped    1   825.00   \n",
       "\n",
       "         ship-state ship-country    B2B  \n",
       "71226         BIHAR           IN  False  \n",
       "66688     KARNATAKA           IN  False  \n",
       "74562   MAHARASHTRA           IN  False  \n",
       "101387      Gujarat           IN  False  \n",
       "22592     KARNATAKA           IN  False  "
      ]
     },
     "execution_count": 20,
     "metadata": {},
     "output_type": "execute_result"
    }
   ],
   "source": [
    "# mengecek sampel sebelum perubahan\n",
    "transaksi_df.sample(5)"
   ]
  },
  {
   "cell_type": "markdown",
   "metadata": {},
   "source": [
    "Lalu kita tambahkan kolom `Year` dan `Month` lalu cek kembali untuk melihat perubahannya."
   ]
  },
  {
   "cell_type": "code",
   "execution_count": 21,
   "metadata": {},
   "outputs": [
    {
     "data": {
      "text/html": [
       "<div>\n",
       "<style scoped>\n",
       "    .dataframe tbody tr th:only-of-type {\n",
       "        vertical-align: middle;\n",
       "    }\n",
       "\n",
       "    .dataframe tbody tr th {\n",
       "        vertical-align: top;\n",
       "    }\n",
       "\n",
       "    .dataframe thead th {\n",
       "        text-align: right;\n",
       "    }\n",
       "</style>\n",
       "<table border=\"1\" class=\"dataframe\">\n",
       "  <thead>\n",
       "    <tr style=\"text-align: right;\">\n",
       "      <th></th>\n",
       "      <th>Order ID</th>\n",
       "      <th>Date</th>\n",
       "      <th>Status</th>\n",
       "      <th>Fulfilment</th>\n",
       "      <th>Sales Channel</th>\n",
       "      <th>ship-service-level</th>\n",
       "      <th>Style</th>\n",
       "      <th>SKU</th>\n",
       "      <th>Category</th>\n",
       "      <th>Size</th>\n",
       "      <th>Courier Status</th>\n",
       "      <th>Qty</th>\n",
       "      <th>Amount</th>\n",
       "      <th>ship-state</th>\n",
       "      <th>ship-country</th>\n",
       "      <th>B2B</th>\n",
       "      <th>Year</th>\n",
       "      <th>Month</th>\n",
       "    </tr>\n",
       "  </thead>\n",
       "  <tbody>\n",
       "    <tr>\n",
       "      <th>91438</th>\n",
       "      <td>406-3380662-9728336</td>\n",
       "      <td>2022-06-29</td>\n",
       "      <td>Cancelled</td>\n",
       "      <td>Amazon</td>\n",
       "      <td>Amazon.in</td>\n",
       "      <td>Expedited</td>\n",
       "      <td>J0157</td>\n",
       "      <td>J0157-DR-XL</td>\n",
       "      <td>Western Dress</td>\n",
       "      <td>XL</td>\n",
       "      <td>Cancelled</td>\n",
       "      <td>0</td>\n",
       "      <td>NaN</td>\n",
       "      <td>ANDHRA PRADESH</td>\n",
       "      <td>IN</td>\n",
       "      <td>False</td>\n",
       "      <td>2022</td>\n",
       "      <td>6</td>\n",
       "    </tr>\n",
       "    <tr>\n",
       "      <th>81819</th>\n",
       "      <td>403-2541988-2857964</td>\n",
       "      <td>2022-05-05</td>\n",
       "      <td>Shipped</td>\n",
       "      <td>Amazon</td>\n",
       "      <td>Amazon.in</td>\n",
       "      <td>Expedited</td>\n",
       "      <td>SET374</td>\n",
       "      <td>SET374-KR-NP-S</td>\n",
       "      <td>Set</td>\n",
       "      <td>S</td>\n",
       "      <td>Shipped</td>\n",
       "      <td>1</td>\n",
       "      <td>626.0</td>\n",
       "      <td>TELANGANA</td>\n",
       "      <td>IN</td>\n",
       "      <td>False</td>\n",
       "      <td>2022</td>\n",
       "      <td>5</td>\n",
       "    </tr>\n",
       "    <tr>\n",
       "      <th>15980</th>\n",
       "      <td>407-2632101-8857952</td>\n",
       "      <td>2022-04-21</td>\n",
       "      <td>Shipped</td>\n",
       "      <td>Amazon</td>\n",
       "      <td>Amazon.in</td>\n",
       "      <td>Expedited</td>\n",
       "      <td>JNE2014</td>\n",
       "      <td>JNE2014-KR-178-L</td>\n",
       "      <td>kurta</td>\n",
       "      <td>L</td>\n",
       "      <td>Shipped</td>\n",
       "      <td>1</td>\n",
       "      <td>353.0</td>\n",
       "      <td>WEST BENGAL</td>\n",
       "      <td>IN</td>\n",
       "      <td>False</td>\n",
       "      <td>2022</td>\n",
       "      <td>4</td>\n",
       "    </tr>\n",
       "    <tr>\n",
       "      <th>107774</th>\n",
       "      <td>171-6755758-5367525</td>\n",
       "      <td>2022-06-15</td>\n",
       "      <td>Cancelled</td>\n",
       "      <td>Amazon</td>\n",
       "      <td>Amazon.in</td>\n",
       "      <td>Expedited</td>\n",
       "      <td>SET304</td>\n",
       "      <td>SET304-KR-DPT-XS</td>\n",
       "      <td>Set</td>\n",
       "      <td>XS</td>\n",
       "      <td>Cancelled</td>\n",
       "      <td>0</td>\n",
       "      <td>NaN</td>\n",
       "      <td>KERALA</td>\n",
       "      <td>IN</td>\n",
       "      <td>False</td>\n",
       "      <td>2022</td>\n",
       "      <td>6</td>\n",
       "    </tr>\n",
       "    <tr>\n",
       "      <th>119747</th>\n",
       "      <td>407-1462869-6805961</td>\n",
       "      <td>2022-06-07</td>\n",
       "      <td>Shipped</td>\n",
       "      <td>Amazon</td>\n",
       "      <td>Amazon.in</td>\n",
       "      <td>Expedited</td>\n",
       "      <td>SET197</td>\n",
       "      <td>SET197-KR-NP-XXL</td>\n",
       "      <td>Set</td>\n",
       "      <td>XXL</td>\n",
       "      <td>Shipped</td>\n",
       "      <td>1</td>\n",
       "      <td>759.0</td>\n",
       "      <td>TELANGANA</td>\n",
       "      <td>IN</td>\n",
       "      <td>False</td>\n",
       "      <td>2022</td>\n",
       "      <td>6</td>\n",
       "    </tr>\n",
       "  </tbody>\n",
       "</table>\n",
       "</div>"
      ],
      "text/plain": [
       "                   Order ID       Date     Status Fulfilment Sales Channel   \\\n",
       "91438   406-3380662-9728336 2022-06-29  Cancelled     Amazon      Amazon.in   \n",
       "81819   403-2541988-2857964 2022-05-05    Shipped     Amazon      Amazon.in   \n",
       "15980   407-2632101-8857952 2022-04-21    Shipped     Amazon      Amazon.in   \n",
       "107774  171-6755758-5367525 2022-06-15  Cancelled     Amazon      Amazon.in   \n",
       "119747  407-1462869-6805961 2022-06-07    Shipped     Amazon      Amazon.in   \n",
       "\n",
       "       ship-service-level    Style               SKU       Category Size  \\\n",
       "91438           Expedited    J0157       J0157-DR-XL  Western Dress   XL   \n",
       "81819           Expedited   SET374    SET374-KR-NP-S            Set    S   \n",
       "15980           Expedited  JNE2014  JNE2014-KR-178-L          kurta    L   \n",
       "107774          Expedited   SET304  SET304-KR-DPT-XS            Set   XS   \n",
       "119747          Expedited   SET197  SET197-KR-NP-XXL            Set  XXL   \n",
       "\n",
       "       Courier Status  Qty  Amount      ship-state ship-country    B2B  Year  \\\n",
       "91438       Cancelled    0     NaN  ANDHRA PRADESH           IN  False  2022   \n",
       "81819         Shipped    1   626.0       TELANGANA           IN  False  2022   \n",
       "15980         Shipped    1   353.0     WEST BENGAL           IN  False  2022   \n",
       "107774      Cancelled    0     NaN          KERALA           IN  False  2022   \n",
       "119747        Shipped    1   759.0       TELANGANA           IN  False  2022   \n",
       "\n",
       "        Month  \n",
       "91438       6  \n",
       "81819       5  \n",
       "15980       4  \n",
       "107774      6  \n",
       "119747      6  "
      ]
     },
     "execution_count": 21,
     "metadata": {},
     "output_type": "execute_result"
    }
   ],
   "source": [
    "# Menambah kolom bulan dan tahun\n",
    "transaksi_df['Year'] = transaksi_df['Date'].dt.year\n",
    "transaksi_df['Month'] = transaksi_df['Date'].dt.month\n",
    "\n",
    "# cek sampel dataframe kembali\n",
    "transaksi_df.sample(5)"
   ]
  },
  {
   "cell_type": "markdown",
   "metadata": {},
   "source": [
    "Kolom `Year` dan `Month` sudah muncul dan siap kita pakai untuk analisis."
   ]
  },
  {
   "cell_type": "markdown",
   "metadata": {},
   "source": [
    "## Menghapus Whitespace pada Nama Kolom\n",
    "\n",
    "Berikut penulisan kolom yang semula:"
   ]
  },
  {
   "cell_type": "code",
   "execution_count": 22,
   "metadata": {},
   "outputs": [
    {
     "data": {
      "text/plain": [
       "Index(['Order ID', 'Date', 'Status', 'Fulfilment', 'Sales Channel ',\n",
       "       'ship-service-level', 'Style', 'SKU', 'Category', 'Size',\n",
       "       'Courier Status', 'Qty', 'Amount', 'ship-state', 'ship-country', 'B2B',\n",
       "       'Year', 'Month'],\n",
       "      dtype='object')"
      ]
     },
     "execution_count": 22,
     "metadata": {},
     "output_type": "execute_result"
    }
   ],
   "source": [
    "# cek kembali penulisan nama kolomnya\n",
    "transaksi_df.columns"
   ]
  },
  {
   "cell_type": "markdown",
   "metadata": {},
   "source": [
    "Kolom `Sales Channel` memiliki whitespace pada bagian belakangnya. Untuk itu, kita hapus lalu kita cek kembali."
   ]
  },
  {
   "cell_type": "code",
   "execution_count": 23,
   "metadata": {},
   "outputs": [
    {
     "data": {
      "text/plain": [
       "Index(['Order ID', 'Date', 'Status', 'Fulfilment', 'Sales Channel',\n",
       "       'ship-service-level', 'Style', 'SKU', 'Category', 'Size',\n",
       "       'Courier Status', 'Qty', 'Amount', 'ship-state', 'ship-country', 'B2B',\n",
       "       'Year', 'Month'],\n",
       "      dtype='object')"
      ]
     },
     "execution_count": 23,
     "metadata": {},
     "output_type": "execute_result"
    }
   ],
   "source": [
    "# memastikan tidak ada whitespace di nama columns\n",
    "transaksi_df.columns = transaksi_df.columns.str.strip()\n",
    "\n",
    "# cek kembali penulisan nama kolomnya\n",
    "transaksi_df.columns"
   ]
  },
  {
   "cell_type": "markdown",
   "metadata": {},
   "source": [
    "Nama kolom `Sales Channel` kini sudah tidak lagi memiliki whitespace di belakangnya."
   ]
  },
  {
   "cell_type": "markdown",
   "metadata": {},
   "source": [
    "## Merapikan Penulisan Kapitalisasi\n",
    "\n",
    "Seperti rencana, kita akan menyamakan kapitalisasi pada penulisan values di kolom `Category` dan `ship-state`. Namun sebelumnya, mari kita cek tampilan semulanya."
   ]
  },
  {
   "cell_type": "code",
   "execution_count": 24,
   "metadata": {},
   "outputs": [
    {
     "data": {
      "text/html": [
       "<div>\n",
       "<style scoped>\n",
       "    .dataframe tbody tr th:only-of-type {\n",
       "        vertical-align: middle;\n",
       "    }\n",
       "\n",
       "    .dataframe tbody tr th {\n",
       "        vertical-align: top;\n",
       "    }\n",
       "\n",
       "    .dataframe thead th {\n",
       "        text-align: right;\n",
       "    }\n",
       "</style>\n",
       "<table border=\"1\" class=\"dataframe\">\n",
       "  <thead>\n",
       "    <tr style=\"text-align: right;\">\n",
       "      <th></th>\n",
       "      <th>Category</th>\n",
       "      <th>ship-state</th>\n",
       "    </tr>\n",
       "  </thead>\n",
       "  <tbody>\n",
       "    <tr>\n",
       "      <th>47904</th>\n",
       "      <td>kurta</td>\n",
       "      <td>Rajasthan</td>\n",
       "    </tr>\n",
       "    <tr>\n",
       "      <th>66614</th>\n",
       "      <td>kurta</td>\n",
       "      <td>Rajasthan</td>\n",
       "    </tr>\n",
       "    <tr>\n",
       "      <th>82849</th>\n",
       "      <td>Set</td>\n",
       "      <td>Rajasthan</td>\n",
       "    </tr>\n",
       "    <tr>\n",
       "      <th>9693</th>\n",
       "      <td>Top</td>\n",
       "      <td>rajasthan</td>\n",
       "    </tr>\n",
       "    <tr>\n",
       "      <th>19633</th>\n",
       "      <td>Top</td>\n",
       "      <td>Rajasthan</td>\n",
       "    </tr>\n",
       "  </tbody>\n",
       "</table>\n",
       "</div>"
      ],
      "text/plain": [
       "      Category ship-state\n",
       "47904    kurta  Rajasthan\n",
       "66614    kurta  Rajasthan\n",
       "82849      Set  Rajasthan\n",
       "9693       Top  rajasthan\n",
       "19633      Top  Rajasthan"
      ]
     },
     "execution_count": 24,
     "metadata": {},
     "output_type": "execute_result"
    }
   ],
   "source": [
    "# mengecek kapitalisasi penulisan values kolom `Category` dan `ship-state`\n",
    "transaksi_df[(transaksi_df['ship-state'] == 'rajasthan') | (transaksi_df['ship-state'] == 'Rajasthan')][['Category', 'ship-state']].sample(5)"
   ]
  },
  {
   "cell_type": "markdown",
   "metadata": {},
   "source": [
    "Mari kita ubah dan cek kembali sebagai berikut."
   ]
  },
  {
   "cell_type": "code",
   "execution_count": 25,
   "metadata": {},
   "outputs": [
    {
     "data": {
      "text/html": [
       "<div>\n",
       "<style scoped>\n",
       "    .dataframe tbody tr th:only-of-type {\n",
       "        vertical-align: middle;\n",
       "    }\n",
       "\n",
       "    .dataframe tbody tr th {\n",
       "        vertical-align: top;\n",
       "    }\n",
       "\n",
       "    .dataframe thead th {\n",
       "        text-align: right;\n",
       "    }\n",
       "</style>\n",
       "<table border=\"1\" class=\"dataframe\">\n",
       "  <thead>\n",
       "    <tr style=\"text-align: right;\">\n",
       "      <th></th>\n",
       "      <th>Category</th>\n",
       "      <th>ship-state</th>\n",
       "    </tr>\n",
       "  </thead>\n",
       "  <tbody>\n",
       "    <tr>\n",
       "      <th>18867</th>\n",
       "      <td>Kurta</td>\n",
       "      <td>Rajasthan</td>\n",
       "    </tr>\n",
       "    <tr>\n",
       "      <th>64403</th>\n",
       "      <td>Kurta</td>\n",
       "      <td>Rajasthan</td>\n",
       "    </tr>\n",
       "    <tr>\n",
       "      <th>10330</th>\n",
       "      <td>Set</td>\n",
       "      <td>Rajasthan</td>\n",
       "    </tr>\n",
       "    <tr>\n",
       "      <th>102808</th>\n",
       "      <td>Set</td>\n",
       "      <td>Rajasthan</td>\n",
       "    </tr>\n",
       "    <tr>\n",
       "      <th>76375</th>\n",
       "      <td>Set</td>\n",
       "      <td>Rajasthan</td>\n",
       "    </tr>\n",
       "  </tbody>\n",
       "</table>\n",
       "</div>"
      ],
      "text/plain": [
       "       Category ship-state\n",
       "18867     Kurta  Rajasthan\n",
       "64403     Kurta  Rajasthan\n",
       "10330       Set  Rajasthan\n",
       "102808      Set  Rajasthan\n",
       "76375       Set  Rajasthan"
      ]
     },
     "execution_count": 25,
     "metadata": {},
     "output_type": "execute_result"
    }
   ],
   "source": [
    "# Merapikan besar huruf values\n",
    "transaksi_df['Category'] = transaksi_df['Category'].str.title()\n",
    "transaksi_df['ship-state'] = transaksi_df['ship-state'].str.title()\n",
    "\n",
    "# mengecek kembali kapitalisasi penulisan values kolom `Category` dan `ship-state`\n",
    "transaksi_df[(transaksi_df['ship-state'] == 'rajasthan') | (transaksi_df['ship-state'] == 'Rajasthan')][['Category', 'ship-state']].sample(5)"
   ]
  },
  {
   "cell_type": "markdown",
   "metadata": {},
   "source": [
    "Sekarang kapitalisasi penulisan di kedua kolom tersebut sudah seragam. Langkah tersebut juga mengurangi beban saat melakukan handling data inkonsisten setelah ini."
   ]
  },
  {
   "cell_type": "markdown",
   "metadata": {},
   "source": [
    "## Handling Data Inkonsisten\n",
    "\n",
    "Sebelum kita mengubah values yang tidak konsisten. Berikut saya tampilkan kembali valuesnya."
   ]
  },
  {
   "cell_type": "code",
   "execution_count": 26,
   "metadata": {},
   "outputs": [
    {
     "data": {
      "text/plain": [
       "ship-state\n",
       "Maharashtra               22260\n",
       "Karnataka                 17326\n",
       "Tamil Nadu                11483\n",
       "Telangana                 11330\n",
       "Uttar Pradesh             10638\n",
       "Delhi                      6967\n",
       "Kerala                     6585\n",
       "West Bengal                5963\n",
       "Andhra Pradesh             5430\n",
       "Gujarat                    4489\n",
       "Haryana                    4415\n",
       "Rajasthan                  2711\n",
       "Madhya Pradesh             2529\n",
       "Odisha                     2136\n",
       "Bihar                      2114\n",
       "Punjab                     1917\n",
       "Assam                      1663\n",
       "Uttarakhand                1553\n",
       "Jharkhand                  1456\n",
       "Goa                        1137\n",
       "Chhattisgarh                909\n",
       "Himachal Pradesh            788\n",
       "Jammu & Kashmir             702\n",
       "Puducherry                  350\n",
       "Chandigarh                  333\n",
       "Manipur                     316\n",
       "Andaman & Nicobar           257\n",
       "Meghalaya                   207\n",
       "Sikkim                      205\n",
       "Nagaland                    185\n",
       "Tripura                     151\n",
       "Arunachal Pradesh           146\n",
       "New Delhi                    81\n",
       "Mizoram                      76\n",
       "Dadra And Nagar              70\n",
       "Ladakh                       43\n",
       "Lakshadweep                   4\n",
       "Rajshthan                     3\n",
       "Orissa                        3\n",
       "Nl                            2\n",
       "Rj                            2\n",
       "Rajsthan                      2\n",
       "Punjab/Mohali/Zirakpur        1\n",
       "Pb                            1\n",
       "Apo                           1\n",
       "Ar                            1\n",
       "Pondicherry                   1\n",
       "Name: count, dtype: int64"
      ]
     },
     "execution_count": 26,
     "metadata": {},
     "output_type": "execute_result"
    }
   ],
   "source": [
    "# cek konsistensi values\n",
    "transaksi_df['ship-state'].value_counts()"
   ]
  },
  {
   "cell_type": "markdown",
   "metadata": {},
   "source": [
    "- Masih terdapat values yang maksudnya sama tetapi, ternyata dibedakan karena tidak konsisten penulisannya. Seperti di atas, `Punjab/Mohali/Zirakpur` yang merujuk kepada `Punjab`.\n",
    "\n",
    "- Maka itu, mari kita ubah dan kita cek kembali"
   ]
  },
  {
   "cell_type": "code",
   "execution_count": 27,
   "metadata": {},
   "outputs": [],
   "source": [
    "# mengubah values yang inkonsisten\n",
    "transaksi_df['ship-state'] = transaksi_df['ship-state'].replace({\n",
    "    'Nl':'Nagaland', \n",
    "    'Orissa':'Odisha',\n",
    "    'Pondicherry':'Puducherry',\n",
    "    'Ar':'Arunachal Pradesh',\n",
    "    'Rajshthan':'Rajasthan',\n",
    "    'Rajsthan':'Rajasthan',\n",
    "    'Rj':'Rajasthan',\n",
    "    'Pb':'Punjab',\n",
    "    'Punjab/Mohali/Zirakpur':'Punjab',\n",
    "    'New Delhi':'Delhi'\n",
    "    }, regex=False)"
   ]
  },
  {
   "cell_type": "code",
   "execution_count": 28,
   "metadata": {},
   "outputs": [
    {
     "data": {
      "text/plain": [
       "ship-state\n",
       "Maharashtra           22260\n",
       "Karnataka             17326\n",
       "Tamil Nadu            11483\n",
       "Telangana             11330\n",
       "Uttar Pradesh         10638\n",
       "Delhi                  7048\n",
       "Kerala                 6585\n",
       "West Bengal            5963\n",
       "Andhra Pradesh         5430\n",
       "Gujarat                4489\n",
       "Haryana                4415\n",
       "Rajasthan              2718\n",
       "Madhya Pradesh         2529\n",
       "Odisha                 2139\n",
       "Bihar                  2114\n",
       "Punjab                 1919\n",
       "Assam                  1663\n",
       "Uttarakhand            1553\n",
       "Jharkhand              1456\n",
       "Goa                    1137\n",
       "Chhattisgarh            909\n",
       "Himachal Pradesh        788\n",
       "Jammu & Kashmir         702\n",
       "Puducherry              351\n",
       "Chandigarh              333\n",
       "Manipur                 316\n",
       "Andaman & Nicobar       257\n",
       "Meghalaya               207\n",
       "Sikkim                  205\n",
       "Nagaland                187\n",
       "Tripura                 151\n",
       "Arunachal Pradesh       147\n",
       "Mizoram                  76\n",
       "Dadra And Nagar          70\n",
       "Ladakh                   43\n",
       "Lakshadweep               4\n",
       "Apo                       1\n",
       "Name: count, dtype: int64"
      ]
     },
     "execution_count": 28,
     "metadata": {},
     "output_type": "execute_result"
    }
   ],
   "source": [
    "# cek konsistensi values\n",
    "transaksi_df['ship-state'].value_counts()"
   ]
  },
  {
   "cell_type": "markdown",
   "metadata": {},
   "source": [
    "Nama kolom `ship-state` sudah bersih dan tidak lagi ada yang tidak konsisten."
   ]
  },
  {
   "cell_type": "markdown",
   "metadata": {},
   "source": [
    "## Menghapus Data Janggal\n",
    "\n",
    "Pada tahap ini, kita akan menghapus values yang memiliki dua kondisi:\n",
    "\n",
    "1. Pesanan yang status pengirimannya `Shipped` atau sudah terkirim, tetapi besaran total belanjanya (`Amount`) = 0. \n",
    "\n",
    "2. Pesanan yang status pengirimannya `Cancelled` atau dibatalkan, tetapi besaran total belanjanya (`Amount`) != (bukanlah) 0.\n",
    "\n",
    "Mari kita cek jumlah baris yang sesuai kedua kondisi di atas:"
   ]
  },
  {
   "cell_type": "code",
   "execution_count": 29,
   "metadata": {},
   "outputs": [
    {
     "data": {
      "text/plain": [
       "False    109125\n",
       "True      19850\n",
       "Name: count, dtype: int64"
      ]
     },
     "execution_count": 29,
     "metadata": {},
     "output_type": "execute_result"
    }
   ],
   "source": [
    "# menghitung jumlah baris menurut ke-2 kondisi yang ditentukan\n",
    "transaksi_df.value_counts([((transaksi_df.Status == 'Cancelled') & (transaksi_df.Amount != 0)) | (transaksi_df.Status == 'Shipped') & (transaksi_df.Amount == 0)])"
   ]
  },
  {
   "cell_type": "markdown",
   "metadata": {},
   "source": [
    "Terlihat ada 19 ribuan baris yang akan kita hapus. Mari kita lakukan dan cek kembali perubahannya."
   ]
  },
  {
   "cell_type": "code",
   "execution_count": 30,
   "metadata": {},
   "outputs": [],
   "source": [
    "# memanfaatkan operator NOT (~) untuk mengecualikan 2 kondisi itu \n",
    "kondisi = ~ (((transaksi_df.Status == 'Cancelled') & (transaksi_df.Amount != 0)) | (transaksi_df.Status == 'Shipped') & (transaksi_df.Amount == 0))\n",
    "\n",
    "# memfilter dengan kondisi yang kita masukkan/definisikan  \n",
    "transaksi_df = transaksi_df[kondisi]\n"
   ]
  },
  {
   "cell_type": "code",
   "execution_count": 31,
   "metadata": {},
   "outputs": [
    {
     "data": {
      "text/html": [
       "<div>\n",
       "<style scoped>\n",
       "    .dataframe tbody tr th:only-of-type {\n",
       "        vertical-align: middle;\n",
       "    }\n",
       "\n",
       "    .dataframe tbody tr th {\n",
       "        vertical-align: top;\n",
       "    }\n",
       "\n",
       "    .dataframe thead th {\n",
       "        text-align: right;\n",
       "    }\n",
       "</style>\n",
       "<table border=\"1\" class=\"dataframe\">\n",
       "  <thead>\n",
       "    <tr style=\"text-align: right;\">\n",
       "      <th></th>\n",
       "      <th>Order ID</th>\n",
       "      <th>Status</th>\n",
       "      <th>Fulfilment</th>\n",
       "      <th>Courier Status</th>\n",
       "      <th>Amount</th>\n",
       "    </tr>\n",
       "  </thead>\n",
       "  <tbody>\n",
       "  </tbody>\n",
       "</table>\n",
       "</div>"
      ],
      "text/plain": [
       "Empty DataFrame\n",
       "Columns: [Order ID, Status, Fulfilment, Courier Status, Amount]\n",
       "Index: []"
      ]
     },
     "execution_count": 31,
     "metadata": {},
     "output_type": "execute_result"
    }
   ],
   "source": [
    "# Mengecek ulang apakah masih ada yang tersisa\n",
    "transaksi_df[((transaksi_df.Status == 'Cancelled') & (transaksi_df.Amount != 0)) | (transaksi_df.Status == 'Shipped') & (transaksi_df.Amount == 0)][['Order ID', 'Status', 'Fulfilment','Courier Status','Amount']]"
   ]
  },
  {
   "cell_type": "markdown",
   "metadata": {},
   "source": [
    "Akhirnya, tidak ada lagi baris yang janggal karena memiliki kedua kondisi tersebut. Selain itu, mari kita lihat berapa banyak baris yang tersisa dari penghapusan sebelumnya."
   ]
  },
  {
   "cell_type": "code",
   "execution_count": 32,
   "metadata": {},
   "outputs": [
    {
     "data": {
      "text/plain": [
       "(109125, 18)"
      ]
     },
     "execution_count": 32,
     "metadata": {},
     "output_type": "execute_result"
    }
   ],
   "source": [
    "# mengecek jumlah baris\n",
    "transaksi_df.shape"
   ]
  },
  {
   "cell_type": "markdown",
   "metadata": {},
   "source": [
    "Tersisa 109.125 baris yang lolos dari pemfilteran dengan 2 kondisi sebelumnya."
   ]
  },
  {
   "cell_type": "markdown",
   "metadata": {},
   "source": [
    "## Handling Missing Value\n",
    "\n",
    "Bagian yang tidak boleh kita lupakan ialah menangani missing value. Berikut missing value yang ada pada dataframe kita"
   ]
  },
  {
   "cell_type": "code",
   "execution_count": 33,
   "metadata": {},
   "outputs": [
    {
     "data": {
      "text/plain": [
       "Order ID                0\n",
       "Date                    0\n",
       "Status                  0\n",
       "Fulfilment              0\n",
       "Sales Channel           0\n",
       "ship-service-level      0\n",
       "Style                   0\n",
       "SKU                     0\n",
       "Category                0\n",
       "Size                    0\n",
       "Courier Status         11\n",
       "Qty                     0\n",
       "Amount                229\n",
       "ship-state             26\n",
       "ship-country           26\n",
       "B2B                     0\n",
       "Year                    0\n",
       "Month                   0\n",
       "dtype: int64"
      ]
     },
     "execution_count": 33,
     "metadata": {},
     "output_type": "execute_result"
    }
   ],
   "source": [
    "#cek missing value\n",
    "transaksi_df.isna().sum()"
   ]
  },
  {
   "cell_type": "markdown",
   "metadata": {},
   "source": [
    "Terdapat 3 kolom yang memiliki missing value, yakni `Amount`, `Courier Status`, dan `ship-state`. Mari kita handling satu per satu."
   ]
  },
  {
   "cell_type": "markdown",
   "metadata": {},
   "source": [
    "### Handling Missing Value Kolom Amount\n",
    "\n",
    "- Ada 226 baris yang kolom `Amount`-nya missing value. \n",
    "\n",
    "- Langkah pertama yang perlu kita lakukan ialah mencari penyebab di balik missing value tersebut, apakah ada hubungannya dengan kolom ini atau tidak."
   ]
  },
  {
   "cell_type": "code",
   "execution_count": 34,
   "metadata": {},
   "outputs": [
    {
     "data": {
      "text/html": [
       "<div>\n",
       "<style scoped>\n",
       "    .dataframe tbody tr th:only-of-type {\n",
       "        vertical-align: middle;\n",
       "    }\n",
       "\n",
       "    .dataframe tbody tr th {\n",
       "        vertical-align: top;\n",
       "    }\n",
       "\n",
       "    .dataframe thead th {\n",
       "        text-align: right;\n",
       "    }\n",
       "</style>\n",
       "<table border=\"1\" class=\"dataframe\">\n",
       "  <thead>\n",
       "    <tr style=\"text-align: right;\">\n",
       "      <th></th>\n",
       "      <th>Order ID</th>\n",
       "      <th>Date</th>\n",
       "      <th>Status</th>\n",
       "      <th>Fulfilment</th>\n",
       "      <th>Sales Channel</th>\n",
       "      <th>ship-service-level</th>\n",
       "      <th>Style</th>\n",
       "      <th>SKU</th>\n",
       "      <th>Category</th>\n",
       "      <th>Size</th>\n",
       "      <th>Courier Status</th>\n",
       "      <th>Qty</th>\n",
       "      <th>Amount</th>\n",
       "      <th>ship-state</th>\n",
       "      <th>ship-country</th>\n",
       "      <th>B2B</th>\n",
       "      <th>Year</th>\n",
       "      <th>Month</th>\n",
       "    </tr>\n",
       "  </thead>\n",
       "  <tbody>\n",
       "    <tr>\n",
       "      <th>937</th>\n",
       "      <td>S02-5278980-4327051</td>\n",
       "      <td>2022-04-30</td>\n",
       "      <td>Shipped</td>\n",
       "      <td>Amazon</td>\n",
       "      <td>Non-Amazon</td>\n",
       "      <td>Standard</td>\n",
       "      <td>BL017</td>\n",
       "      <td>BL017-63BLACK</td>\n",
       "      <td>Blouse</td>\n",
       "      <td>Free</td>\n",
       "      <td>Unshipped</td>\n",
       "      <td>15</td>\n",
       "      <td>NaN</td>\n",
       "      <td>Gujarat</td>\n",
       "      <td>IN</td>\n",
       "      <td>False</td>\n",
       "      <td>2022</td>\n",
       "      <td>4</td>\n",
       "    </tr>\n",
       "    <tr>\n",
       "      <th>1057</th>\n",
       "      <td>S02-9107114-0460608</td>\n",
       "      <td>2022-04-30</td>\n",
       "      <td>Shipped</td>\n",
       "      <td>Amazon</td>\n",
       "      <td>Non-Amazon</td>\n",
       "      <td>Standard</td>\n",
       "      <td>SET315</td>\n",
       "      <td>SET315-KR-PP-XL</td>\n",
       "      <td>Set</td>\n",
       "      <td>XL</td>\n",
       "      <td>Unshipped</td>\n",
       "      <td>2</td>\n",
       "      <td>NaN</td>\n",
       "      <td>Gujarat</td>\n",
       "      <td>IN</td>\n",
       "      <td>False</td>\n",
       "      <td>2022</td>\n",
       "      <td>4</td>\n",
       "    </tr>\n",
       "    <tr>\n",
       "      <th>1615</th>\n",
       "      <td>405-7790745-1369118</td>\n",
       "      <td>2022-04-29</td>\n",
       "      <td>Shipped</td>\n",
       "      <td>Amazon</td>\n",
       "      <td>Amazon.in</td>\n",
       "      <td>Expedited</td>\n",
       "      <td>JNE3518</td>\n",
       "      <td>JNE3518-KR-M</td>\n",
       "      <td>Kurta</td>\n",
       "      <td>M</td>\n",
       "      <td>Cancelled</td>\n",
       "      <td>0</td>\n",
       "      <td>NaN</td>\n",
       "      <td>Uttarakhand</td>\n",
       "      <td>IN</td>\n",
       "      <td>False</td>\n",
       "      <td>2022</td>\n",
       "      <td>4</td>\n",
       "    </tr>\n",
       "    <tr>\n",
       "      <th>1989</th>\n",
       "      <td>171-9673855-2321133</td>\n",
       "      <td>2022-04-29</td>\n",
       "      <td>Shipped</td>\n",
       "      <td>Amazon</td>\n",
       "      <td>Amazon.in</td>\n",
       "      <td>Expedited</td>\n",
       "      <td>SET232</td>\n",
       "      <td>SET232-KR-PP-S</td>\n",
       "      <td>Set</td>\n",
       "      <td>S</td>\n",
       "      <td>Cancelled</td>\n",
       "      <td>0</td>\n",
       "      <td>NaN</td>\n",
       "      <td>Haryana</td>\n",
       "      <td>IN</td>\n",
       "      <td>False</td>\n",
       "      <td>2022</td>\n",
       "      <td>4</td>\n",
       "    </tr>\n",
       "    <tr>\n",
       "      <th>2424</th>\n",
       "      <td>404-7478762-7926753</td>\n",
       "      <td>2022-04-29</td>\n",
       "      <td>Shipped</td>\n",
       "      <td>Amazon</td>\n",
       "      <td>Amazon.in</td>\n",
       "      <td>Expedited</td>\n",
       "      <td>SET331</td>\n",
       "      <td>SET331-KR-NP-S</td>\n",
       "      <td>Set</td>\n",
       "      <td>S</td>\n",
       "      <td>Cancelled</td>\n",
       "      <td>0</td>\n",
       "      <td>NaN</td>\n",
       "      <td>Rajasthan</td>\n",
       "      <td>IN</td>\n",
       "      <td>False</td>\n",
       "      <td>2022</td>\n",
       "      <td>4</td>\n",
       "    </tr>\n",
       "  </tbody>\n",
       "</table>\n",
       "</div>"
      ],
      "text/plain": [
       "                 Order ID       Date   Status Fulfilment Sales Channel  \\\n",
       "937   S02-5278980-4327051 2022-04-30  Shipped     Amazon    Non-Amazon   \n",
       "1057  S02-9107114-0460608 2022-04-30  Shipped     Amazon    Non-Amazon   \n",
       "1615  405-7790745-1369118 2022-04-29  Shipped     Amazon     Amazon.in   \n",
       "1989  171-9673855-2321133 2022-04-29  Shipped     Amazon     Amazon.in   \n",
       "2424  404-7478762-7926753 2022-04-29  Shipped     Amazon     Amazon.in   \n",
       "\n",
       "     ship-service-level    Style              SKU Category  Size  \\\n",
       "937            Standard    BL017    BL017-63BLACK   Blouse  Free   \n",
       "1057           Standard   SET315  SET315-KR-PP-XL      Set    XL   \n",
       "1615          Expedited  JNE3518     JNE3518-KR-M    Kurta     M   \n",
       "1989          Expedited   SET232   SET232-KR-PP-S      Set     S   \n",
       "2424          Expedited   SET331   SET331-KR-NP-S      Set     S   \n",
       "\n",
       "     Courier Status  Qty  Amount   ship-state ship-country    B2B  Year  Month  \n",
       "937       Unshipped   15     NaN      Gujarat           IN  False  2022      4  \n",
       "1057      Unshipped    2     NaN      Gujarat           IN  False  2022      4  \n",
       "1615      Cancelled    0     NaN  Uttarakhand           IN  False  2022      4  \n",
       "1989      Cancelled    0     NaN      Haryana           IN  False  2022      4  \n",
       "2424      Cancelled    0     NaN    Rajasthan           IN  False  2022      4  "
      ]
     },
     "execution_count": 34,
     "metadata": {},
     "output_type": "execute_result"
    }
   ],
   "source": [
    "# mengecek sampel baris yang kolom `Amount`-nya missing value\n",
    "transaksi_df[transaksi_df.Amount.isna()].head()"
   ]
  },
  {
   "cell_type": "markdown",
   "metadata": {},
   "source": [
    "- Terlihat bahwa nilai `Amount` yang kosong ternyata disebabkan 2 kondisi tertentu saat di tangan kurir. Itu ditunjukkan pada kolom `Courier Status`. \n",
    "- Ada yang karena memang belum dikirimkan oleh kurir (Unshipped) dan di-cancel.\n",
    "- Untuk itu, saya akan mengganti nilai NaN pada kolom `Amount` itu dengan 0. "
   ]
  },
  {
   "cell_type": "code",
   "execution_count": 35,
   "metadata": {},
   "outputs": [],
   "source": [
    "# memasukkan 0 untuk data `Amount` yang missing value\n",
    "transaksi_df.Amount = transaksi_df.Amount.fillna(0)"
   ]
  },
  {
   "cell_type": "code",
   "execution_count": 36,
   "metadata": {},
   "outputs": [
    {
     "data": {
      "text/plain": [
       "0"
      ]
     },
     "execution_count": 36,
     "metadata": {},
     "output_type": "execute_result"
    }
   ],
   "source": [
    "# mengecek kembali adakah baris yang kolom `Amount`-nya missing value\n",
    "transaksi_df['Amount'].isna().sum()"
   ]
  },
  {
   "cell_type": "markdown",
   "metadata": {},
   "source": [
    "Sudah tidak ada lagi baris yang kolom `Amount`-nya missing value."
   ]
  },
  {
   "cell_type": "markdown",
   "metadata": {},
   "source": [
    "### Handling Missing Value Kolom Courier Status\n",
    "\n",
    "- Ada 11 baris yang kolom `Courie Status`-nya mi11ng value. \n",
    "\n",
    "- Seperti sebelumnya, kita perlu mencari penyebab di balik missing value tersebut, apakah ada hubungannya dengan kolom ini atau tidak."
   ]
  },
  {
   "cell_type": "code",
   "execution_count": 37,
   "metadata": {},
   "outputs": [
    {
     "data": {
      "text/html": [
       "<div>\n",
       "<style scoped>\n",
       "    .dataframe tbody tr th:only-of-type {\n",
       "        vertical-align: middle;\n",
       "    }\n",
       "\n",
       "    .dataframe tbody tr th {\n",
       "        vertical-align: top;\n",
       "    }\n",
       "\n",
       "    .dataframe thead th {\n",
       "        text-align: right;\n",
       "    }\n",
       "</style>\n",
       "<table border=\"1\" class=\"dataframe\">\n",
       "  <thead>\n",
       "    <tr style=\"text-align: right;\">\n",
       "      <th></th>\n",
       "      <th>Order ID</th>\n",
       "      <th>Date</th>\n",
       "      <th>Status</th>\n",
       "      <th>Fulfilment</th>\n",
       "      <th>Sales Channel</th>\n",
       "      <th>ship-service-level</th>\n",
       "      <th>Style</th>\n",
       "      <th>SKU</th>\n",
       "      <th>Category</th>\n",
       "      <th>Size</th>\n",
       "      <th>Courier Status</th>\n",
       "      <th>Qty</th>\n",
       "      <th>Amount</th>\n",
       "      <th>ship-state</th>\n",
       "      <th>ship-country</th>\n",
       "      <th>B2B</th>\n",
       "      <th>Year</th>\n",
       "      <th>Month</th>\n",
       "    </tr>\n",
       "  </thead>\n",
       "  <tbody>\n",
       "    <tr>\n",
       "      <th>18894</th>\n",
       "      <td>408-2656493-8935504</td>\n",
       "      <td>2022-04-19</td>\n",
       "      <td>Shipped - Delivered to Buyer</td>\n",
       "      <td>Merchant</td>\n",
       "      <td>Amazon.in</td>\n",
       "      <td>Standard</td>\n",
       "      <td>SET278</td>\n",
       "      <td>SET278-KR-NP-S</td>\n",
       "      <td>Set</td>\n",
       "      <td>S</td>\n",
       "      <td>NaN</td>\n",
       "      <td>0</td>\n",
       "      <td>0.0</td>\n",
       "      <td>Maharashtra</td>\n",
       "      <td>IN</td>\n",
       "      <td>False</td>\n",
       "      <td>2022</td>\n",
       "      <td>4</td>\n",
       "    </tr>\n",
       "    <tr>\n",
       "      <th>19292</th>\n",
       "      <td>408-0017934-6791513</td>\n",
       "      <td>2022-04-19</td>\n",
       "      <td>Shipped - Delivered to Buyer</td>\n",
       "      <td>Merchant</td>\n",
       "      <td>Amazon.in</td>\n",
       "      <td>Standard</td>\n",
       "      <td>SET288</td>\n",
       "      <td>SET288-KR-NP-XXL</td>\n",
       "      <td>Set</td>\n",
       "      <td>XXL</td>\n",
       "      <td>NaN</td>\n",
       "      <td>0</td>\n",
       "      <td>0.0</td>\n",
       "      <td>Kerala</td>\n",
       "      <td>IN</td>\n",
       "      <td>False</td>\n",
       "      <td>2022</td>\n",
       "      <td>4</td>\n",
       "    </tr>\n",
       "    <tr>\n",
       "      <th>23873</th>\n",
       "      <td>407-5638769-8389162</td>\n",
       "      <td>2022-04-16</td>\n",
       "      <td>Shipped - Delivered to Buyer</td>\n",
       "      <td>Merchant</td>\n",
       "      <td>Amazon.in</td>\n",
       "      <td>Standard</td>\n",
       "      <td>JNE3730</td>\n",
       "      <td>JNE3730-KR-L</td>\n",
       "      <td>Kurta</td>\n",
       "      <td>L</td>\n",
       "      <td>NaN</td>\n",
       "      <td>0</td>\n",
       "      <td>0.0</td>\n",
       "      <td>Andhra Pradesh</td>\n",
       "      <td>IN</td>\n",
       "      <td>False</td>\n",
       "      <td>2022</td>\n",
       "      <td>4</td>\n",
       "    </tr>\n",
       "    <tr>\n",
       "      <th>35337</th>\n",
       "      <td>407-9335911-1673924</td>\n",
       "      <td>2022-04-09</td>\n",
       "      <td>Shipped - Delivered to Buyer</td>\n",
       "      <td>Merchant</td>\n",
       "      <td>Amazon.in</td>\n",
       "      <td>Standard</td>\n",
       "      <td>MEN5028</td>\n",
       "      <td>MEN5028-KR-XL</td>\n",
       "      <td>Kurta</td>\n",
       "      <td>XL</td>\n",
       "      <td>NaN</td>\n",
       "      <td>0</td>\n",
       "      <td>0.0</td>\n",
       "      <td>Gujarat</td>\n",
       "      <td>IN</td>\n",
       "      <td>False</td>\n",
       "      <td>2022</td>\n",
       "      <td>4</td>\n",
       "    </tr>\n",
       "    <tr>\n",
       "      <th>46852</th>\n",
       "      <td>406-5666781-2979508</td>\n",
       "      <td>2022-04-02</td>\n",
       "      <td>Shipped - Delivered to Buyer</td>\n",
       "      <td>Merchant</td>\n",
       "      <td>Amazon.in</td>\n",
       "      <td>Standard</td>\n",
       "      <td>MEN5022</td>\n",
       "      <td>MEN5022-KR-M</td>\n",
       "      <td>Kurta</td>\n",
       "      <td>M</td>\n",
       "      <td>NaN</td>\n",
       "      <td>0</td>\n",
       "      <td>0.0</td>\n",
       "      <td>Uttar Pradesh</td>\n",
       "      <td>IN</td>\n",
       "      <td>False</td>\n",
       "      <td>2022</td>\n",
       "      <td>4</td>\n",
       "    </tr>\n",
       "    <tr>\n",
       "      <th>63344</th>\n",
       "      <td>404-3955601-0129966</td>\n",
       "      <td>2022-05-20</td>\n",
       "      <td>Shipped - Delivered to Buyer</td>\n",
       "      <td>Merchant</td>\n",
       "      <td>Amazon.in</td>\n",
       "      <td>Standard</td>\n",
       "      <td>J0151</td>\n",
       "      <td>J0151-KR-A-XL</td>\n",
       "      <td>Kurta</td>\n",
       "      <td>XL</td>\n",
       "      <td>NaN</td>\n",
       "      <td>0</td>\n",
       "      <td>0.0</td>\n",
       "      <td>Punjab</td>\n",
       "      <td>IN</td>\n",
       "      <td>False</td>\n",
       "      <td>2022</td>\n",
       "      <td>5</td>\n",
       "    </tr>\n",
       "    <tr>\n",
       "      <th>65174</th>\n",
       "      <td>407-1289751-6335501</td>\n",
       "      <td>2022-05-18</td>\n",
       "      <td>Shipped - Delivered to Buyer</td>\n",
       "      <td>Merchant</td>\n",
       "      <td>Amazon.in</td>\n",
       "      <td>Standard</td>\n",
       "      <td>PJNE3252</td>\n",
       "      <td>PJNE3252-KR-N-6XL</td>\n",
       "      <td>Kurta</td>\n",
       "      <td>6XL</td>\n",
       "      <td>NaN</td>\n",
       "      <td>0</td>\n",
       "      <td>0.0</td>\n",
       "      <td>Tamil Nadu</td>\n",
       "      <td>IN</td>\n",
       "      <td>False</td>\n",
       "      <td>2022</td>\n",
       "      <td>5</td>\n",
       "    </tr>\n",
       "    <tr>\n",
       "      <th>71443</th>\n",
       "      <td>171-2697577-5967501</td>\n",
       "      <td>2022-05-13</td>\n",
       "      <td>Shipped - Returned to Seller</td>\n",
       "      <td>Merchant</td>\n",
       "      <td>Amazon.in</td>\n",
       "      <td>Standard</td>\n",
       "      <td>JNE3798</td>\n",
       "      <td>JNE3798-KR-A-S</td>\n",
       "      <td>Western Dress</td>\n",
       "      <td>S</td>\n",
       "      <td>NaN</td>\n",
       "      <td>0</td>\n",
       "      <td>0.0</td>\n",
       "      <td>Tamil Nadu</td>\n",
       "      <td>IN</td>\n",
       "      <td>False</td>\n",
       "      <td>2022</td>\n",
       "      <td>5</td>\n",
       "    </tr>\n",
       "    <tr>\n",
       "      <th>74296</th>\n",
       "      <td>171-0040661-6643541</td>\n",
       "      <td>2022-05-11</td>\n",
       "      <td>Shipped - Returned to Seller</td>\n",
       "      <td>Merchant</td>\n",
       "      <td>Amazon.in</td>\n",
       "      <td>Standard</td>\n",
       "      <td>SET401</td>\n",
       "      <td>SET401-KR-NP-L</td>\n",
       "      <td>Set</td>\n",
       "      <td>L</td>\n",
       "      <td>NaN</td>\n",
       "      <td>0</td>\n",
       "      <td>0.0</td>\n",
       "      <td>Andhra Pradesh</td>\n",
       "      <td>IN</td>\n",
       "      <td>False</td>\n",
       "      <td>2022</td>\n",
       "      <td>5</td>\n",
       "    </tr>\n",
       "    <tr>\n",
       "      <th>75251</th>\n",
       "      <td>408-7380700-0029922</td>\n",
       "      <td>2022-05-10</td>\n",
       "      <td>Shipped - Delivered to Buyer</td>\n",
       "      <td>Merchant</td>\n",
       "      <td>Amazon.in</td>\n",
       "      <td>Standard</td>\n",
       "      <td>NW012</td>\n",
       "      <td>NW012-TP-PJ-XL</td>\n",
       "      <td>Set</td>\n",
       "      <td>XL</td>\n",
       "      <td>NaN</td>\n",
       "      <td>0</td>\n",
       "      <td>0.0</td>\n",
       "      <td>Uttar Pradesh</td>\n",
       "      <td>IN</td>\n",
       "      <td>False</td>\n",
       "      <td>2022</td>\n",
       "      <td>5</td>\n",
       "    </tr>\n",
       "    <tr>\n",
       "      <th>84211</th>\n",
       "      <td>171-3459992-9664354</td>\n",
       "      <td>2022-05-04</td>\n",
       "      <td>Shipped - Returned to Seller</td>\n",
       "      <td>Merchant</td>\n",
       "      <td>Amazon.in</td>\n",
       "      <td>Standard</td>\n",
       "      <td>JNE3679</td>\n",
       "      <td>JNE3679-TU-L</td>\n",
       "      <td>Top</td>\n",
       "      <td>L</td>\n",
       "      <td>NaN</td>\n",
       "      <td>0</td>\n",
       "      <td>0.0</td>\n",
       "      <td>Karnataka</td>\n",
       "      <td>IN</td>\n",
       "      <td>False</td>\n",
       "      <td>2022</td>\n",
       "      <td>5</td>\n",
       "    </tr>\n",
       "  </tbody>\n",
       "</table>\n",
       "</div>"
      ],
      "text/plain": [
       "                  Order ID       Date                        Status  \\\n",
       "18894  408-2656493-8935504 2022-04-19  Shipped - Delivered to Buyer   \n",
       "19292  408-0017934-6791513 2022-04-19  Shipped - Delivered to Buyer   \n",
       "23873  407-5638769-8389162 2022-04-16  Shipped - Delivered to Buyer   \n",
       "35337  407-9335911-1673924 2022-04-09  Shipped - Delivered to Buyer   \n",
       "46852  406-5666781-2979508 2022-04-02  Shipped - Delivered to Buyer   \n",
       "63344  404-3955601-0129966 2022-05-20  Shipped - Delivered to Buyer   \n",
       "65174  407-1289751-6335501 2022-05-18  Shipped - Delivered to Buyer   \n",
       "71443  171-2697577-5967501 2022-05-13  Shipped - Returned to Seller   \n",
       "74296  171-0040661-6643541 2022-05-11  Shipped - Returned to Seller   \n",
       "75251  408-7380700-0029922 2022-05-10  Shipped - Delivered to Buyer   \n",
       "84211  171-3459992-9664354 2022-05-04  Shipped - Returned to Seller   \n",
       "\n",
       "      Fulfilment Sales Channel ship-service-level     Style  \\\n",
       "18894   Merchant     Amazon.in           Standard    SET278   \n",
       "19292   Merchant     Amazon.in           Standard    SET288   \n",
       "23873   Merchant     Amazon.in           Standard   JNE3730   \n",
       "35337   Merchant     Amazon.in           Standard   MEN5028   \n",
       "46852   Merchant     Amazon.in           Standard   MEN5022   \n",
       "63344   Merchant     Amazon.in           Standard     J0151   \n",
       "65174   Merchant     Amazon.in           Standard  PJNE3252   \n",
       "71443   Merchant     Amazon.in           Standard   JNE3798   \n",
       "74296   Merchant     Amazon.in           Standard    SET401   \n",
       "75251   Merchant     Amazon.in           Standard     NW012   \n",
       "84211   Merchant     Amazon.in           Standard   JNE3679   \n",
       "\n",
       "                     SKU       Category Size Courier Status  Qty  Amount  \\\n",
       "18894     SET278-KR-NP-S            Set    S            NaN    0     0.0   \n",
       "19292   SET288-KR-NP-XXL            Set  XXL            NaN    0     0.0   \n",
       "23873       JNE3730-KR-L          Kurta    L            NaN    0     0.0   \n",
       "35337      MEN5028-KR-XL          Kurta   XL            NaN    0     0.0   \n",
       "46852       MEN5022-KR-M          Kurta    M            NaN    0     0.0   \n",
       "63344      J0151-KR-A-XL          Kurta   XL            NaN    0     0.0   \n",
       "65174  PJNE3252-KR-N-6XL          Kurta  6XL            NaN    0     0.0   \n",
       "71443     JNE3798-KR-A-S  Western Dress    S            NaN    0     0.0   \n",
       "74296     SET401-KR-NP-L            Set    L            NaN    0     0.0   \n",
       "75251     NW012-TP-PJ-XL            Set   XL            NaN    0     0.0   \n",
       "84211       JNE3679-TU-L            Top    L            NaN    0     0.0   \n",
       "\n",
       "           ship-state ship-country    B2B  Year  Month  \n",
       "18894     Maharashtra           IN  False  2022      4  \n",
       "19292          Kerala           IN  False  2022      4  \n",
       "23873  Andhra Pradesh           IN  False  2022      4  \n",
       "35337         Gujarat           IN  False  2022      4  \n",
       "46852   Uttar Pradesh           IN  False  2022      4  \n",
       "63344          Punjab           IN  False  2022      5  \n",
       "65174      Tamil Nadu           IN  False  2022      5  \n",
       "71443      Tamil Nadu           IN  False  2022      5  \n",
       "74296  Andhra Pradesh           IN  False  2022      5  \n",
       "75251   Uttar Pradesh           IN  False  2022      5  \n",
       "84211       Karnataka           IN  False  2022      5  "
      ]
     },
     "execution_count": 37,
     "metadata": {},
     "output_type": "execute_result"
    }
   ],
   "source": [
    "# mengecek baris yang kolom `Courier Isna` missing value\n",
    "transaksi_df[transaksi_df['Courier Status'].isna()]"
   ]
  },
  {
   "cell_type": "markdown",
   "metadata": {},
   "source": [
    "- Saya menduga bahwa missing value ini diakibatkan pesanan (`Courier Status`) ter-cancel karena nilai `Amount` dan `Qty` == 0\n",
    "\n",
    "- Untuk membuktikannya, mari kita bandingkan dengan sampel baris yang kolom `Courier Status`-nya == `Cancelled`."
   ]
  },
  {
   "cell_type": "code",
   "execution_count": 38,
   "metadata": {},
   "outputs": [
    {
     "data": {
      "text/html": [
       "<div>\n",
       "<style scoped>\n",
       "    .dataframe tbody tr th:only-of-type {\n",
       "        vertical-align: middle;\n",
       "    }\n",
       "\n",
       "    .dataframe tbody tr th {\n",
       "        vertical-align: top;\n",
       "    }\n",
       "\n",
       "    .dataframe thead th {\n",
       "        text-align: right;\n",
       "    }\n",
       "</style>\n",
       "<table border=\"1\" class=\"dataframe\">\n",
       "  <thead>\n",
       "    <tr style=\"text-align: right;\">\n",
       "      <th></th>\n",
       "      <th>Order ID</th>\n",
       "      <th>Date</th>\n",
       "      <th>Status</th>\n",
       "      <th>Fulfilment</th>\n",
       "      <th>Sales Channel</th>\n",
       "      <th>ship-service-level</th>\n",
       "      <th>Style</th>\n",
       "      <th>SKU</th>\n",
       "      <th>Category</th>\n",
       "      <th>Size</th>\n",
       "      <th>Courier Status</th>\n",
       "      <th>Qty</th>\n",
       "      <th>Amount</th>\n",
       "      <th>ship-state</th>\n",
       "      <th>ship-country</th>\n",
       "      <th>B2B</th>\n",
       "      <th>Year</th>\n",
       "      <th>Month</th>\n",
       "    </tr>\n",
       "  </thead>\n",
       "  <tbody>\n",
       "    <tr>\n",
       "      <th>57849</th>\n",
       "      <td>407-1892481-1278746</td>\n",
       "      <td>2022-05-25</td>\n",
       "      <td>Shipped</td>\n",
       "      <td>Amazon</td>\n",
       "      <td>Amazon.in</td>\n",
       "      <td>Expedited</td>\n",
       "      <td>SET324</td>\n",
       "      <td>SET324-KR-NP-L</td>\n",
       "      <td>Set</td>\n",
       "      <td>L</td>\n",
       "      <td>Cancelled</td>\n",
       "      <td>0</td>\n",
       "      <td>0.0</td>\n",
       "      <td>Haryana</td>\n",
       "      <td>IN</td>\n",
       "      <td>False</td>\n",
       "      <td>2022</td>\n",
       "      <td>5</td>\n",
       "    </tr>\n",
       "    <tr>\n",
       "      <th>110614</th>\n",
       "      <td>402-2687284-5179538</td>\n",
       "      <td>2022-06-13</td>\n",
       "      <td>Shipped</td>\n",
       "      <td>Amazon</td>\n",
       "      <td>Amazon.in</td>\n",
       "      <td>Expedited</td>\n",
       "      <td>JNE3761</td>\n",
       "      <td>JNE3761-KR-M</td>\n",
       "      <td>Kurta</td>\n",
       "      <td>M</td>\n",
       "      <td>Cancelled</td>\n",
       "      <td>0</td>\n",
       "      <td>0.0</td>\n",
       "      <td>Maharashtra</td>\n",
       "      <td>IN</td>\n",
       "      <td>False</td>\n",
       "      <td>2022</td>\n",
       "      <td>6</td>\n",
       "    </tr>\n",
       "    <tr>\n",
       "      <th>100238</th>\n",
       "      <td>407-9261873-2421156</td>\n",
       "      <td>2022-06-21</td>\n",
       "      <td>Shipped</td>\n",
       "      <td>Amazon</td>\n",
       "      <td>Amazon.in</td>\n",
       "      <td>Expedited</td>\n",
       "      <td>SET431</td>\n",
       "      <td>SET431-KR-NP-S</td>\n",
       "      <td>Set</td>\n",
       "      <td>S</td>\n",
       "      <td>Cancelled</td>\n",
       "      <td>0</td>\n",
       "      <td>0.0</td>\n",
       "      <td>Rajasthan</td>\n",
       "      <td>IN</td>\n",
       "      <td>False</td>\n",
       "      <td>2022</td>\n",
       "      <td>6</td>\n",
       "    </tr>\n",
       "    <tr>\n",
       "      <th>55103</th>\n",
       "      <td>406-4920405-2447545</td>\n",
       "      <td>2022-05-27</td>\n",
       "      <td>Shipped</td>\n",
       "      <td>Amazon</td>\n",
       "      <td>Amazon.in</td>\n",
       "      <td>Expedited</td>\n",
       "      <td>JNE3468</td>\n",
       "      <td>JNE3468-KR-XXXL</td>\n",
       "      <td>Kurta</td>\n",
       "      <td>3XL</td>\n",
       "      <td>Cancelled</td>\n",
       "      <td>0</td>\n",
       "      <td>0.0</td>\n",
       "      <td>Maharashtra</td>\n",
       "      <td>IN</td>\n",
       "      <td>False</td>\n",
       "      <td>2022</td>\n",
       "      <td>5</td>\n",
       "    </tr>\n",
       "    <tr>\n",
       "      <th>63465</th>\n",
       "      <td>404-2851413-3598702</td>\n",
       "      <td>2022-05-20</td>\n",
       "      <td>Shipped</td>\n",
       "      <td>Amazon</td>\n",
       "      <td>Amazon.in</td>\n",
       "      <td>Expedited</td>\n",
       "      <td>SET328</td>\n",
       "      <td>SET328-KR-NP-M</td>\n",
       "      <td>Set</td>\n",
       "      <td>M</td>\n",
       "      <td>Cancelled</td>\n",
       "      <td>0</td>\n",
       "      <td>0.0</td>\n",
       "      <td>Uttar Pradesh</td>\n",
       "      <td>IN</td>\n",
       "      <td>False</td>\n",
       "      <td>2022</td>\n",
       "      <td>5</td>\n",
       "    </tr>\n",
       "  </tbody>\n",
       "</table>\n",
       "</div>"
      ],
      "text/plain": [
       "                   Order ID       Date   Status Fulfilment Sales Channel  \\\n",
       "57849   407-1892481-1278746 2022-05-25  Shipped     Amazon     Amazon.in   \n",
       "110614  402-2687284-5179538 2022-06-13  Shipped     Amazon     Amazon.in   \n",
       "100238  407-9261873-2421156 2022-06-21  Shipped     Amazon     Amazon.in   \n",
       "55103   406-4920405-2447545 2022-05-27  Shipped     Amazon     Amazon.in   \n",
       "63465   404-2851413-3598702 2022-05-20  Shipped     Amazon     Amazon.in   \n",
       "\n",
       "       ship-service-level    Style              SKU Category Size  \\\n",
       "57849           Expedited   SET324   SET324-KR-NP-L      Set    L   \n",
       "110614          Expedited  JNE3761     JNE3761-KR-M    Kurta    M   \n",
       "100238          Expedited   SET431   SET431-KR-NP-S      Set    S   \n",
       "55103           Expedited  JNE3468  JNE3468-KR-XXXL    Kurta  3XL   \n",
       "63465           Expedited   SET328   SET328-KR-NP-M      Set    M   \n",
       "\n",
       "       Courier Status  Qty  Amount     ship-state ship-country    B2B  Year  \\\n",
       "57849       Cancelled    0     0.0        Haryana           IN  False  2022   \n",
       "110614      Cancelled    0     0.0    Maharashtra           IN  False  2022   \n",
       "100238      Cancelled    0     0.0      Rajasthan           IN  False  2022   \n",
       "55103       Cancelled    0     0.0    Maharashtra           IN  False  2022   \n",
       "63465       Cancelled    0     0.0  Uttar Pradesh           IN  False  2022   \n",
       "\n",
       "        Month  \n",
       "57849       5  \n",
       "110614      6  \n",
       "100238      6  \n",
       "55103       5  \n",
       "63465       5  "
      ]
     },
     "execution_count": 38,
     "metadata": {},
     "output_type": "execute_result"
    }
   ],
   "source": [
    "# menampilkan sampel data yang value `Amount` == 0 dan `Courier Status` ==`Cancelled\n",
    "transaksi_df[(transaksi_df['Amount'] == 0) & (transaksi_df['Courier Status'] == 'Cancelled')].sample(5)"
   ]
  },
  {
   "cell_type": "markdown",
   "metadata": {},
   "source": [
    "- Benar saja, baris yang memiliki value `Amount` -- 0, diakibatkan karena `Courier Status` == `Cancelled`. \n",
    "\n",
    "- Maka itu, kita replace nilai missing value pada kolom `Courier Status` dengan `Cancelled`"
   ]
  },
  {
   "cell_type": "code",
   "execution_count": 39,
   "metadata": {},
   "outputs": [],
   "source": [
    "# replace missing value `Courier Status` dengan `Cancelled`\n",
    "transaksi_df['Courier Status'] = transaksi_df['Courier Status'].fillna('Cancelled')"
   ]
  },
  {
   "cell_type": "code",
   "execution_count": 40,
   "metadata": {},
   "outputs": [
    {
     "data": {
      "text/plain": [
       "0"
      ]
     },
     "execution_count": 40,
     "metadata": {},
     "output_type": "execute_result"
    }
   ],
   "source": [
    "# mengecek kembali apakah ada missing value pada kolom `Courier Status`\n",
    "transaksi_df['Courier Status'].isna().sum()"
   ]
  },
  {
   "cell_type": "markdown",
   "metadata": {},
   "source": [
    "Sekarang, kolom `Courier Status` tidak memiliki missing value lagi.  Jadi, kita bisa beranjak pada kolom selanjutnya."
   ]
  },
  {
   "cell_type": "markdown",
   "metadata": {},
   "source": [
    "### Handling Missing Value Kolom Ship-State\n",
    "\n",
    "Mari kita cek dahulu jumlah missing value pada kolom ini sebagai berikut lalu cek sampelnya."
   ]
  },
  {
   "cell_type": "code",
   "execution_count": 41,
   "metadata": {},
   "outputs": [
    {
     "data": {
      "text/plain": [
       "26"
      ]
     },
     "execution_count": 41,
     "metadata": {},
     "output_type": "execute_result"
    }
   ],
   "source": [
    "# cek jumlah missing value pada kolom `ship=state`\n",
    "transaksi_df['ship-state'].isna().sum()"
   ]
  },
  {
   "cell_type": "code",
   "execution_count": 42,
   "metadata": {},
   "outputs": [
    {
     "data": {
      "text/html": [
       "<div>\n",
       "<style scoped>\n",
       "    .dataframe tbody tr th:only-of-type {\n",
       "        vertical-align: middle;\n",
       "    }\n",
       "\n",
       "    .dataframe tbody tr th {\n",
       "        vertical-align: top;\n",
       "    }\n",
       "\n",
       "    .dataframe thead th {\n",
       "        text-align: right;\n",
       "    }\n",
       "</style>\n",
       "<table border=\"1\" class=\"dataframe\">\n",
       "  <thead>\n",
       "    <tr style=\"text-align: right;\">\n",
       "      <th></th>\n",
       "      <th>Order ID</th>\n",
       "      <th>Date</th>\n",
       "      <th>Status</th>\n",
       "      <th>Fulfilment</th>\n",
       "      <th>Sales Channel</th>\n",
       "      <th>ship-service-level</th>\n",
       "      <th>Style</th>\n",
       "      <th>SKU</th>\n",
       "      <th>Category</th>\n",
       "      <th>Size</th>\n",
       "      <th>Courier Status</th>\n",
       "      <th>Qty</th>\n",
       "      <th>Amount</th>\n",
       "      <th>ship-state</th>\n",
       "      <th>ship-country</th>\n",
       "      <th>B2B</th>\n",
       "      <th>Year</th>\n",
       "      <th>Month</th>\n",
       "    </tr>\n",
       "  </thead>\n",
       "  <tbody>\n",
       "    <tr>\n",
       "      <th>1871</th>\n",
       "      <td>404-0566904-4825137</td>\n",
       "      <td>2022-04-29</td>\n",
       "      <td>Shipped</td>\n",
       "      <td>Amazon</td>\n",
       "      <td>Amazon.in</td>\n",
       "      <td>Expedited</td>\n",
       "      <td>J0301</td>\n",
       "      <td>J0301-TP-L</td>\n",
       "      <td>Top</td>\n",
       "      <td>L</td>\n",
       "      <td>Shipped</td>\n",
       "      <td>1</td>\n",
       "      <td>493.0</td>\n",
       "      <td>NaN</td>\n",
       "      <td>NaN</td>\n",
       "      <td>False</td>\n",
       "      <td>2022</td>\n",
       "      <td>4</td>\n",
       "    </tr>\n",
       "    <tr>\n",
       "      <th>1872</th>\n",
       "      <td>404-0566904-4825137</td>\n",
       "      <td>2022-04-29</td>\n",
       "      <td>Shipped</td>\n",
       "      <td>Amazon</td>\n",
       "      <td>Amazon.in</td>\n",
       "      <td>Expedited</td>\n",
       "      <td>JNE3697</td>\n",
       "      <td>JNE3697-KR-L</td>\n",
       "      <td>Kurta</td>\n",
       "      <td>L</td>\n",
       "      <td>Shipped</td>\n",
       "      <td>1</td>\n",
       "      <td>458.0</td>\n",
       "      <td>NaN</td>\n",
       "      <td>NaN</td>\n",
       "      <td>False</td>\n",
       "      <td>2022</td>\n",
       "      <td>4</td>\n",
       "    </tr>\n",
       "    <tr>\n",
       "      <th>8752</th>\n",
       "      <td>406-4003386-8768363</td>\n",
       "      <td>2022-04-25</td>\n",
       "      <td>Shipped</td>\n",
       "      <td>Amazon</td>\n",
       "      <td>Amazon.in</td>\n",
       "      <td>Expedited</td>\n",
       "      <td>JNE3376</td>\n",
       "      <td>JNE3376-KR-M</td>\n",
       "      <td>Kurta</td>\n",
       "      <td>M</td>\n",
       "      <td>Shipped</td>\n",
       "      <td>1</td>\n",
       "      <td>432.0</td>\n",
       "      <td>NaN</td>\n",
       "      <td>NaN</td>\n",
       "      <td>False</td>\n",
       "      <td>2022</td>\n",
       "      <td>4</td>\n",
       "    </tr>\n",
       "    <tr>\n",
       "      <th>11215</th>\n",
       "      <td>402-0107720-7057168</td>\n",
       "      <td>2022-04-23</td>\n",
       "      <td>Shipped</td>\n",
       "      <td>Amazon</td>\n",
       "      <td>Amazon.in</td>\n",
       "      <td>Expedited</td>\n",
       "      <td>J0003</td>\n",
       "      <td>J0003-SET-S</td>\n",
       "      <td>Set</td>\n",
       "      <td>S</td>\n",
       "      <td>Shipped</td>\n",
       "      <td>1</td>\n",
       "      <td>654.0</td>\n",
       "      <td>NaN</td>\n",
       "      <td>NaN</td>\n",
       "      <td>False</td>\n",
       "      <td>2022</td>\n",
       "      <td>4</td>\n",
       "    </tr>\n",
       "    <tr>\n",
       "      <th>15688</th>\n",
       "      <td>404-9229894-8608305</td>\n",
       "      <td>2022-04-21</td>\n",
       "      <td>Shipped</td>\n",
       "      <td>Amazon</td>\n",
       "      <td>Amazon.in</td>\n",
       "      <td>Expedited</td>\n",
       "      <td>JNE3510</td>\n",
       "      <td>JNE3510-KR-M</td>\n",
       "      <td>Kurta</td>\n",
       "      <td>M</td>\n",
       "      <td>Shipped</td>\n",
       "      <td>1</td>\n",
       "      <td>442.0</td>\n",
       "      <td>NaN</td>\n",
       "      <td>NaN</td>\n",
       "      <td>False</td>\n",
       "      <td>2022</td>\n",
       "      <td>4</td>\n",
       "    </tr>\n",
       "  </tbody>\n",
       "</table>\n",
       "</div>"
      ],
      "text/plain": [
       "                  Order ID       Date   Status Fulfilment Sales Channel  \\\n",
       "1871   404-0566904-4825137 2022-04-29  Shipped     Amazon     Amazon.in   \n",
       "1872   404-0566904-4825137 2022-04-29  Shipped     Amazon     Amazon.in   \n",
       "8752   406-4003386-8768363 2022-04-25  Shipped     Amazon     Amazon.in   \n",
       "11215  402-0107720-7057168 2022-04-23  Shipped     Amazon     Amazon.in   \n",
       "15688  404-9229894-8608305 2022-04-21  Shipped     Amazon     Amazon.in   \n",
       "\n",
       "      ship-service-level    Style           SKU Category Size Courier Status  \\\n",
       "1871           Expedited    J0301    J0301-TP-L      Top    L        Shipped   \n",
       "1872           Expedited  JNE3697  JNE3697-KR-L    Kurta    L        Shipped   \n",
       "8752           Expedited  JNE3376  JNE3376-KR-M    Kurta    M        Shipped   \n",
       "11215          Expedited    J0003   J0003-SET-S      Set    S        Shipped   \n",
       "15688          Expedited  JNE3510  JNE3510-KR-M    Kurta    M        Shipped   \n",
       "\n",
       "       Qty  Amount ship-state ship-country    B2B  Year  Month  \n",
       "1871     1   493.0        NaN          NaN  False  2022      4  \n",
       "1872     1   458.0        NaN          NaN  False  2022      4  \n",
       "8752     1   432.0        NaN          NaN  False  2022      4  \n",
       "11215    1   654.0        NaN          NaN  False  2022      4  \n",
       "15688    1   442.0        NaN          NaN  False  2022      4  "
      ]
     },
     "execution_count": 42,
     "metadata": {},
     "output_type": "execute_result"
    }
   ],
   "source": [
    "# melihat sampel missing value kolom `ship-state`\n",
    "transaksi_df[transaksi_df['ship-state'].isna()].head()"
   ]
  },
  {
   "cell_type": "markdown",
   "metadata": {},
   "source": [
    "Saya merasa bahwa missing value pada kolom ini tidak berhubungan dengan value pada kolom tersebut, maka saya memutuskan mengubah missing value-nya menjadi `Unknown`. Barulah setelah itu, mengecek perubahannya."
   ]
  },
  {
   "cell_type": "code",
   "execution_count": 43,
   "metadata": {},
   "outputs": [],
   "source": [
    "# mengisi missing value kolom `ship-state` dengan `Unknown`\n",
    "transaksi_df['ship-state'] = transaksi_df['ship-state'].fillna('Unknown')"
   ]
  },
  {
   "cell_type": "code",
   "execution_count": 44,
   "metadata": {},
   "outputs": [
    {
     "data": {
      "text/plain": [
       "0"
      ]
     },
     "execution_count": 44,
     "metadata": {},
     "output_type": "execute_result"
    }
   ],
   "source": [
    "# mengecek kembali, apakah ada yang masing missing value pada kolom ini\n",
    "transaksi_df['ship-state'].isna().sum()"
   ]
  },
  {
   "cell_type": "markdown",
   "metadata": {},
   "source": [
    "### Handling Missing Value Kolom Ship-Country\n",
    "\n",
    "Mari kita cek dahulu jumlah missing value pada kolom ini sebagai berikut lalu cek sampelnya."
   ]
  },
  {
   "cell_type": "code",
   "execution_count": 45,
   "metadata": {},
   "outputs": [
    {
     "data": {
      "text/plain": [
       "26"
      ]
     },
     "execution_count": 45,
     "metadata": {},
     "output_type": "execute_result"
    }
   ],
   "source": [
    "# cek jumlah missing value pada kolom `ship-country`\n",
    "transaksi_df['ship-country'].isna().sum()"
   ]
  },
  {
   "cell_type": "markdown",
   "metadata": {},
   "source": [
    "- Saya meyakini bahwa sebenarnya nilai sebenarnya pada missing value di kolom ini sebenarnya ialah IN (India) karena bisnis ini menunjukkan hanya beroperasi di India saja. \n",
    "\n",
    "- Itu dibuktikan dari unique value kolom ini"
   ]
  },
  {
   "cell_type": "code",
   "execution_count": 46,
   "metadata": {},
   "outputs": [
    {
     "data": {
      "text/plain": [
       "array(['IN', nan], dtype=object)"
      ]
     },
     "execution_count": 46,
     "metadata": {},
     "output_type": "execute_result"
    }
   ],
   "source": [
    "# cek unique value `ship-country`\n",
    "transaksi_df['ship-country'].unique()"
   ]
  },
  {
   "cell_type": "markdown",
   "metadata": {},
   "source": [
    "Seperti asumsi, saya selain 26 values yang missing ini, sisanya ialah IN. Untuk itu, saya akan mengisi missing value pada kolom ini dengan IN juga"
   ]
  },
  {
   "cell_type": "code",
   "execution_count": 47,
   "metadata": {},
   "outputs": [],
   "source": [
    "# mengisi missing value kolom `ship-country` dengan `IN`\n",
    "transaksi_df['ship-country'] = transaksi_df['ship-country'].fillna('IN')"
   ]
  },
  {
   "cell_type": "code",
   "execution_count": 48,
   "metadata": {},
   "outputs": [
    {
     "data": {
      "text/plain": [
       "0"
      ]
     },
     "execution_count": 48,
     "metadata": {},
     "output_type": "execute_result"
    }
   ],
   "source": [
    "# cek jumlah missing value pada kolom `ship-country`\n",
    "transaksi_df['ship-country'].isna().sum()"
   ]
  },
  {
   "cell_type": "markdown",
   "metadata": {},
   "source": [
    "Tidak ada lagi missing value pada kolom `ship-country`. Dengan begitu, tidak ada missing value lagi pada dataframe ini. Namun untuk membuktikannya lagi, mari kita periksa."
   ]
  },
  {
   "cell_type": "code",
   "execution_count": 49,
   "metadata": {},
   "outputs": [
    {
     "data": {
      "text/plain": [
       "Order ID              0\n",
       "Date                  0\n",
       "Status                0\n",
       "Fulfilment            0\n",
       "Sales Channel         0\n",
       "ship-service-level    0\n",
       "Style                 0\n",
       "SKU                   0\n",
       "Category              0\n",
       "Size                  0\n",
       "Courier Status        0\n",
       "Qty                   0\n",
       "Amount                0\n",
       "ship-state            0\n",
       "ship-country          0\n",
       "B2B                   0\n",
       "Year                  0\n",
       "Month                 0\n",
       "dtype: int64"
      ]
     },
     "execution_count": 49,
     "metadata": {},
     "output_type": "execute_result"
    }
   ],
   "source": [
    "# mengecek missing value pada setiap kolom\n",
    "transaksi_df.isna().sum()"
   ]
  },
  {
   "cell_type": "markdown",
   "metadata": {},
   "source": [
    "Dengan demikian, sudah tidak ada lagi kolom yang mengalami missing value dan data siap untuk diolah lebih lanjut."
   ]
  },
  {
   "cell_type": "markdown",
   "metadata": {},
   "source": [
    "### Save Clean Data\n",
    "\n",
    "Data yang sudah bersih kita akan simpan ke file CSV untuk kemudian nanti kita manfaatkan untuk data visualisasi di Tableu."
   ]
  },
  {
   "cell_type": "code",
   "execution_count": 50,
   "metadata": {},
   "outputs": [],
   "source": [
    "# menyimpan clean data ke file csv\n",
    "transaksi_df.to_csv(\"clean_data.csv\", index=False)"
   ]
  },
  {
   "cell_type": "markdown",
   "metadata": {},
   "source": [
    "# Analisis dan Perhitungan"
   ]
  },
  {
   "cell_type": "markdown",
   "metadata": {},
   "source": [
    "## Kategori produk yang paling diminati"
   ]
  },
  {
   "cell_type": "markdown",
   "metadata": {},
   "source": [
    "Kita akan mencari tahu sebenarnya kategori produk apa yang paling diminati dan dibeli oleh customer kita."
   ]
  },
  {
   "cell_type": "code",
   "execution_count": 51,
   "metadata": {},
   "outputs": [
    {
     "data": {
      "text/plain": [
       "Category\n",
       "Blouse             815\n",
       "Bottom             379\n",
       "Dupatta              3\n",
       "Ethnic Dress       991\n",
       "Kurta            42237\n",
       "Saree              146\n",
       "Set              42347\n",
       "Top               9241\n",
       "Western Dress    13315\n",
       "Name: Qty, dtype: int64"
      ]
     },
     "execution_count": 51,
     "metadata": {},
     "output_type": "execute_result"
    }
   ],
   "source": [
    "# mengecek kategori produk apa yang paling diminati\n",
    "transaksi_df.groupby('Category')['Qty'].sum()      "
   ]
  },
  {
   "cell_type": "markdown",
   "metadata": {},
   "source": [
    "(sort by dari terbesar)"
   ]
  },
  {
   "cell_type": "markdown",
   "metadata": {},
   "source": [
    "- Dari hasil di atas diketahui bahwa kategori yang paling diminati ialah `Set` yang jumlah pesanannya sejauh ini mencapai 42.347 buah.\n",
    "\n",
    "- Adapun kategori produk yang paling tidak diminati ialah `Dupatta` yang hanya terjual 3 buah saja sepanjang ini. Begitu pula Saree yang hanya terjual 146 buah saja.\n",
    "\n",
    "- Data ini rupanya menjadi gambaran kecil tentang perubahan tren fesyen di India. Permintaan sari rupanya menurun hingga setengahnya dalam satu dekade terakhir, khususnya di perkotaan. \n",
    "\n",
    "- Selengkapnya klik link berikut: https://timesofindia.indiatimes.com/city/ahmedabad/demand-for-saris-in-cities-halves-in-a-decade/articleshow/93197217.cms"
   ]
  },
  {
   "cell_type": "markdown",
   "metadata": {},
   "source": [
    "## Adakah Faktor yang Mempengaruhi Peningkatan Jumlah Transaksi?\n",
    "\n",
    "Kita akan menggunakan chi squared test untuk mencari tahu faktor apa saja yang mempengaruhi peningkatan jumlah transaksi. Namun sebelum itu, mari kita tentukan dahulu H0 dan H1"
   ]
  },
  {
   "cell_type": "markdown",
   "metadata": {},
   "source": [
    "H0 : A variable and buying again are independent\n",
    "\n",
    "H1 : A variable and buying again are dependent\n",
    "\n",
    "We will use confidence level of 95%."
   ]
  },
  {
   "cell_type": "code",
   "execution_count": 52,
   "metadata": {},
   "outputs": [
    {
     "name": "stdout",
     "output_type": "stream",
     "text": [
      "P-value of Order ID and Qty_kategori: 0.7197167236567931 \n",
      "P-value of Status and Qty_kategori: 0.00044412610243281357 and they are dependent\n",
      "P-value of Fulfilment and Qty_kategori: 0.20428281108071142 \n",
      "P-value of Sales Channel and Qty_kategori: 0.0008207107768035818 and they are dependent\n",
      "P-value of ship-service-level and Qty_kategori: 0.012895367066845803 and they are dependent\n",
      "P-value of Style and Qty_kategori: 0.855613519495712 \n",
      "P-value of SKU and Qty_kategori: 0.527934742551115 \n",
      "P-value of Category and Qty_kategori: 0.160033300717855 \n",
      "P-value of Size and Qty_kategori: 0.07332028070605913 \n",
      "P-value of Courier Status and Qty_kategori: 0.010179945247861621 and they are dependent\n",
      "P-value of ship-state and Qty_kategori: 0.9301498839340094 \n",
      "P-value of ship-country and Qty_kategori: 1.0 \n",
      "P-value of B2B and Qty_kategori: 0.9478320457831866 \n"
     ]
    }
   ],
   "source": [
    "# masukkan kolom kolom kategorikal ke variabel dahulu\n",
    "cols = ['Order ID', 'Status', 'Fulfilment', 'Sales Channel', 'ship-service-level', 'Style', 'SKU', 'Category', 'Size', 'Courier Status', 'ship-state', 'ship-country', 'B2B']\n",
    "\n",
    "# ubah kolom kategorikal yang dimasukkan ke variabel itu ke tipe 'category'\n",
    "for column in cols:\n",
    "    transaksi_df[column] = transaksi_df[column].astype('category')\n",
    "\n",
    "# kategorisasi Qty\n",
    "bins = [1, 2, float('inf')]\n",
    "labels = ['low', 'high']\n",
    "transaksi_df['Qty_kategori'] = pd.cut(transaksi_df['Qty'], bins=bins, labels=labels)\n",
    "\n",
    "# menentukan target kolom\n",
    "target_column = 'Qty_kategori'\n",
    "\n",
    "# menyimpan hasil p-value dari chi-squared test\n",
    "hasil_chi = {}\n",
    "\n",
    "# melakukan chi-squared test\n",
    "for column in transaksi_df.select_dtypes(['category']).columns:\n",
    "    if column != target_column:\n",
    "        # buat tabel kontingensi antara kolom sekarang dan kolom target\n",
    "        cont_table = pd.crosstab(transaksi_df[column], transaksi_df[target_column])\n",
    "        # tes chi-squared dilakukan di pada tabel kontingensi\n",
    "        chi2, p, dof, ex = chi2_contingency(cont_table)\n",
    "        # cek apakah ada ketergantungan\n",
    "        prompt = \"and they are dependent\" if p <0.05 else \"\"\n",
    "        # cetak hasil\n",
    "        print(f\"P-value of {column} and {target_column}: {p} {prompt}\")"
   ]
  },
  {
   "cell_type": "markdown",
   "metadata": {},
   "source": [
    "Ternyata ada 4 kategori lain yang memiliki ketergantungan dengan kategori `Qty`. Mereka ialah:\n",
    "\n",
    "1. Status\n",
    "2. Sales Channel\n",
    "3. ship-service-level\n",
    "4. Courier status"
   ]
  },
  {
   "cell_type": "markdown",
   "metadata": {},
   "source": [
    "- Keempat kategori ini perlu didalami lebih lanjut, seperti pengaruh ship-service-level. \n",
    "\n",
    "- Ternyata pengiriman expedited (cepat) berpengaruh terhadap kepuasan pelanggan dan penggunaan jenis pengiriman ini menjadi salah satu yang dipikirkan matang-matang oleh sejumlah company.\n",
    "\n",
    "- Berikut ulasan dari sisi psikologi tentang pengaruh pengiriman cepat dengan kepuasan pelanggan.\n",
    "https://www.crossbetterlogistics.com/expedited-shipping/"
   ]
  },
  {
   "cell_type": "markdown",
   "metadata": {},
   "source": [
    "## Kebiasaan Customer Saat Membeli\n",
    "\n",
    "Di sini, kita bisa mengecek melalui analisis deskriptif terhadap nilai `Qty` (kuantitas) jumlah pesanan dan total belanjannya ('Amount)"
   ]
  },
  {
   "cell_type": "markdown",
   "metadata": {},
   "source": [
    "### QTY\n",
    "\n",
    "Kita akan mendapatkan gambaran lengkap tentang bagaimana jumlah pesanan pada setiap transaksi menurut mean, modus, bahkan hingga nilai ekstremnya."
   ]
  },
  {
   "cell_type": "code",
   "execution_count": 53,
   "metadata": {},
   "outputs": [
    {
     "name": "stdout",
     "output_type": "stream",
     "text": [
      "Rata-rata jumlah pesanan per transaksi \t\t:\t1 buah\n",
      "Nilai tengah jumlah pesanan per transaksi \t:\t1.0 buah\n",
      "Nilai terbanyak jumlah pesanan per transaksi \t:\t1 buah\n",
      "Standar deviasi dari jumlah pesanan per transaksi: \t0.10\n",
      "Skewness dari jumlah pesanan per transaksi \t:\t54.67\n"
     ]
    }
   ],
   "source": [
    "# menghitung mean Qty\n",
    "print(f'Rata-rata jumlah pesanan per transaksi \\t\\t:\\t{round(transaksi_df['Qty'].mean())} buah')\n",
    "# menghitung median Qty\n",
    "print(f'Nilai tengah jumlah pesanan per transaksi \\t:\\t{transaksi_df['Qty'].median()} buah')\n",
    "# menghitung modus Qty\n",
    "print(f'Nilai terbanyak jumlah pesanan per transaksi \\t:\\t{transaksi_df['Qty'].mode()[0]} buah')\n",
    "# menghitung standar deviasi Qty\n",
    "print(f'Standar deviasi dari jumlah pesanan per transaksi: \\t{transaksi_df['Qty'].std():.2f}')\n",
    "# menghitung skewness Qty\n",
    "print(f'Skewness dari jumlah pesanan per transaksi \\t:\\t{transaksi_df['Qty'].skew():.2f}')"
   ]
  },
  {
   "cell_type": "markdown",
   "metadata": {},
   "source": [
    "Dari output di atas, disimpulkan bahwa:\n",
    "\n",
    "- Pada setiap transaksi, rata-rata (mean) dan kebanyakan (modus) customer hanya berbelanja 1 item saja. \n",
    "\n",
    "- Kesimpulan itu dibuktikan dengan nilai standar deviasi kecil. Yang berarti transaksi jumlah pesanan customer berkutat pada nilai rata-rata (mean), dalam konteks ini hanya 1 buah saja. \n",
    "\n",
    "- Namun, ada kalanya customer berbelanja dalam jumlah yang esktrem atau jauh dari rata-rata jumlah pesanan (outlier). Itu bisa dilihat dari skewness yang sangat tinggi."
   ]
  },
  {
   "cell_type": "markdown",
   "metadata": {},
   "source": [
    "#### Outliers Qty"
   ]
  },
  {
   "cell_type": "markdown",
   "metadata": {},
   "source": [
    "Mari kita cari tahu berapa banyak jumlah outlier atau nilai ekstem pada jumlah pesanan sejauh ini."
   ]
  },
  {
   "cell_type": "code",
   "execution_count": 54,
   "metadata": {},
   "outputs": [
    {
     "name": "stdout",
     "output_type": "stream",
     "text": [
      "Q1: 1.0\n",
      "Q3: 1.0\n",
      "IQR: 0.0\n",
      "Lower Bound: 1.0\n",
      "Upper Bound: 1.0\n",
      "Outlier:\n",
      "Qty\n",
      "2      315\n",
      "0      106\n",
      "3       32\n",
      "4        9\n",
      "5        2\n",
      "8        1\n",
      "9        1\n",
      "13       1\n",
      "15       1\n",
      "Name: count, dtype: int64\n",
      "Qty    468\n",
      "dtype: int64\n",
      "Qty terendah: 0\n",
      "Qty tertinggi: 15\n"
     ]
    }
   ],
   "source": [
    "# Menghtiung kuartil ke-1 dan 3\n",
    "Q1_qty = transaksi_df['Qty'].quantile(0.25)\n",
    "Q3_qty = transaksi_df['Qty'].quantile(0.75)\n",
    "\n",
    "# Menghitung Interquartile Range (IQR)\n",
    "IQR_qty = Q3_qty - Q1_qty\n",
    "\n",
    "# Menghitung batas bawah dan atas untuk outlier\n",
    "lower_bound_qty = Q1_qty - 1.5 * IQR_qty\n",
    "upper_bound_qty = Q3_qty + 1.5 * IQR_qty\n",
    "\n",
    "# Menentukan outlier\n",
    "outliers_qty = transaksi_df[(transaksi_df['Qty'] < lower_bound_qty) | (transaksi_df['Qty'] > upper_bound_qty)]\n",
    "\n",
    "print(f\"Q1: {Q1_qty}\")\n",
    "print(f\"Q3: {Q3_qty}\")\n",
    "print(f\"IQR: {IQR_qty}\")\n",
    "print(f\"Lower Bound: {lower_bound_qty}\")\n",
    "print(f\"Upper Bound: {upper_bound_qty}\")\n",
    "print(\"Outlier:\")\n",
    "print(outliers_qty[['Qty']].value_counts())\n",
    "print(outliers_qty[['Qty']].count())\n",
    "print(f\"Qty terendah: {transaksi_df['Qty'].min()}\")\n",
    "print(f\"Qty tertinggi: {transaksi_df['Qty'].max()}\")"
   ]
  },
  {
   "cell_type": "markdown",
   "metadata": {},
   "source": [
    "- Dari hasil di atas, kita mengetahui ada 468 transaksi yang termasuk outlier. \n",
    "\n",
    "- Ada yang membeli hingga 15 dan 13. Jumlah itu menjauhi upper boundries(yakni = 1)."
   ]
  },
  {
   "cell_type": "markdown",
   "metadata": {},
   "source": [
    "### Amount\n",
    "\n",
    "Kita akan mendapatkan gambaran lengkap tentang bagaimana total belanja pada setiap transaksi menurut mean, modus, bahkan hingga nilai ekstremnya."
   ]
  },
  {
   "cell_type": "code",
   "execution_count": 55,
   "metadata": {},
   "outputs": [
    {
     "name": "stdout",
     "output_type": "stream",
     "text": [
      "Rata-rata jumlah pembayaran per transaksi \t\t:\t656.80 Rupee\n",
      "Nilai tengah jumlah pembayaran per transaksi \t\t:\t613.0 Rupee\n",
      "Nilai terbanyak jumlah pembayaran per transaksi \t:\t399.0 Rupee\n",
      "Standar deviasi dari jumlah pembayaran per transaksi\t: \t275.90 Rupee\n",
      "Skewness dari jumlah pembayaran per transaksi \t:\t1.01\n"
     ]
    }
   ],
   "source": [
    "# mencari mean Amount\n",
    "print(f'Rata-rata jumlah pembayaran per transaksi \\t\\t:\\t{transaksi_df['Amount'].mean():.2f} Rupee')\n",
    "# mencari median Amount\n",
    "print(f'Nilai tengah jumlah pembayaran per transaksi \\t\\t:\\t{transaksi_df['Amount'].median()} Rupee')\n",
    "# mencari modus Amount\n",
    "print(f'Nilai terbanyak jumlah pembayaran per transaksi \\t:\\t{transaksi_df['Amount'].mode()[0]} Rupee')\n",
    "# menentukan standar deviasi Amount\n",
    "print(f'Standar deviasi dari jumlah pembayaran per transaksi\\t: \\t{transaksi_df['Amount'].std():.2f} Rupee')\n",
    "# menentukan skewness Amount\n",
    "print(f'Skewness dari jumlah pembayaran per transaksi \\t:\\t{transaksi_df['Amount'].skew():.2f}')"
   ]
  },
  {
   "cell_type": "markdown",
   "metadata": {},
   "source": [
    "Dari hasil itu, diketahui:\n",
    "\n",
    "- Kebanyakan (modus) total belanja customer setiap transaksi sebesar 399 Rupee.\n",
    "\n",
    "- Menariknya, rata-rata (mean) total belanja jauh lebih besar, yakni 657 Rupee\n",
    "\n",
    "- Itu menunjukkan bahwa ada outlier atau customer yang nlai belanjaannya jauh melebihi kebanyakan (modus) atau rerata (mean) customer lainnya.\n",
    "\n",
    "- Pernyataan tersebut juga diperkuat dengan nilai skewness yang melebihi 1. Itu menunjukkan kecenderungan yang diakibatkan oleh besaran outlier pada analisis ini."
   ]
  },
  {
   "cell_type": "markdown",
   "metadata": {},
   "source": [
    "#### Outliers Amount\n",
    "\n",
    "Mari kita cari tahu berapa banyak jumlah outlier atau nilai ekstem pada total belanja tiap transaksi yang terjadi sejauh ini."
   ]
  },
  {
   "cell_type": "code",
   "execution_count": 56,
   "metadata": {},
   "outputs": [
    {
     "name": "stdout",
     "output_type": "stream",
     "text": [
      "Q1: 458.0\n",
      "Q3: 788.0\n",
      "IQR: 330.0\n",
      "Lower Bound: -37.0\n",
      "Upper Bound: 1283.0\n",
      "Outlier:\n",
      "Amount\n",
      "1613.0    12\n",
      "1362.0     3\n",
      "1704.0     1\n",
      "1326.0     1\n",
      "1447.0    25\n",
      "Name: count, dtype: int64\n",
      "Amount    3490\n",
      "dtype: int64\n",
      "Amount terendah: 0.0\n",
      "Amount tertinggi: 5584.0\n"
     ]
    }
   ],
   "source": [
    "# Menghtiung kuartil ke-1 dan 3\n",
    "Q1_amount = transaksi_df['Amount'].quantile(0.25)\n",
    "Q3_amount = transaksi_df['Amount'].quantile(0.75)\n",
    "\n",
    "# Menghitung Interquartile Range (IQR)\n",
    "IQR_amount = Q3_amount - Q1_amount\n",
    "\n",
    "# Menghitung batas bawah dan atas untuk outlier\n",
    "lower_bound_amount = Q1_amount - 1.5 * IQR_amount\n",
    "upper_bound_amount = Q3_amount + 1.5 * IQR_amount\n",
    "\n",
    "# Menentukan outlier\n",
    "outliers_amount = transaksi_df[(transaksi_df['Amount'] < lower_bound_amount) | (transaksi_df['Amount'] > upper_bound_amount)]\n",
    "\n",
    "print(f\"Q1: {Q1_amount}\")\n",
    "print(f\"Q3: {Q3_amount}\")\n",
    "print(f\"IQR: {IQR_amount}\")\n",
    "print(f\"Lower Bound: {lower_bound_amount}\")\n",
    "print(f\"Upper Bound: {upper_bound_amount}\")\n",
    "print(\"Outlier:\")\n",
    "print(outliers_amount[['Amount']].value_counts().sample(5))\n",
    "print(outliers_amount[['Amount']].count())\n",
    "print(f\"Amount terendah: {transaksi_df['Amount'].min()}\")\n",
    "print(f\"Amount tertinggi: {transaksi_df['Amount'].max()}\")"
   ]
  },
  {
   "cell_type": "markdown",
   "metadata": {},
   "source": [
    "- Benar saja, 3 ribuan transaksi yang total belanjanya melebihi rata-rata dan kebanyakan yang dilakukan customer lainnya.\n",
    "\n",
    "- Selain itu, bisa kita lihat total belanja (`Amount`) yang terbesar bisa mencapai 5.584 Rupee, padahal rata-ratanya hanya 600-an Rupee.\n",
    "\n",
    "- Dari insight ini, kita bisam merencanakan sebuah penawaran menarik, berupa program bundling atau cashbak bila belanja lebih dari sekian. \n",
    "\n",
    "- Tujuannya menarik customer agar lebih banyak berbelanja, khususnya customer dengan total belanja di atas rata-rata."
   ]
  },
  {
   "cell_type": "markdown",
   "metadata": {},
   "source": [
    "## Jumlah Transaksi Per Bulan\n",
    "\n",
    "Kita akan mencari tahu jumlah transaksi tiap bulannya. Dengan begitu, kita bisa mengetahui tren volume transaksi kita sedang naik atau turun."
   ]
  },
  {
   "cell_type": "code",
   "execution_count": 57,
   "metadata": {},
   "outputs": [
    {
     "data": {
      "text/plain": [
       "Month\n",
       "3      140\n",
       "4    38630\n",
       "5    33277\n",
       "6    29628\n",
       "Name: Order ID, dtype: int64"
      ]
     },
     "execution_count": 57,
     "metadata": {},
     "output_type": "execute_result"
    }
   ],
   "source": [
    "# hitung jumlah transaksi per bulan\n",
    "jumlah_transaksi_per_bulan = transaksi_df.groupby('Month')['Order ID'].nunique()\n",
    "jumlah_transaksi_per_bulan"
   ]
  },
  {
   "cell_type": "code",
   "execution_count": 58,
   "metadata": {},
   "outputs": [
    {
     "data": {
      "image/png": "[encoded data removed]",
      "text/plain": [
       "<Figure size 640x480 with 1 Axes>"
      ]
     },
     "metadata": {},
     "output_type": "display_data"
    }
   ],
   "source": [
    "# plot jumlah pesanan per bulan\n",
    "plt.plot(jumlah_transaksi_per_bulan.index,jumlah_transaksi_per_bulan.values, marker='o');\n",
    "\n",
    "# menambahkan judul\n",
    "plt.title('Jumlah Transaksi')\n",
    "\n",
    "# menmbahkan label sumbu x dan y\n",
    "plt.xlabel('Bulan')\n",
    "plt.ylabel('Jumlah Transaksi');"
   ]
  },
  {
   "cell_type": "markdown",
   "metadata": {},
   "source": [
    "- Dari sini kita mengetahui sempat terjadi peningkatan jumlah transaksi pada bulan ke-4 (April). Kemudian terjadi tren penurunan di 2 bulan berikutnya.\n",
    "\n",
    "- Sebagai informasi, pada April, sejumlah daerah di India mengadakan festival perayaan Tahun Baru. Acaranya berlangsung di seluruh negeri meskipun namanya berbeda tiap daerah, seperti Gudi Padwa di Maharashtra. \n",
    "\n",
    "- Biasanya pada saat itu, ada peningkatan penjualan, khususnya pakaian yang dipakai untuk perayaan.\n",
    "\n",
    "- Berikut link informasi selengkapnya: https://www.aboutamazon.in/news/retail/ugadi-vishu-gudi-padwa-essentials-on-amazon"
   ]
  },
  {
   "cell_type": "markdown",
   "metadata": {},
   "source": [
    "## Sales Volume by Product Category"
   ]
  },
  {
   "cell_type": "markdown",
   "metadata": {},
   "source": [
    "Dari sini, kita bisa melihat sales volume tiap produknya sekaligus melihat proporsinya masing-masing kategori."
   ]
  },
  {
   "cell_type": "code",
   "execution_count": 59,
   "metadata": {},
   "outputs": [
    {
     "data": {
      "text/plain": [
       "Category\n",
       "Set              42261\n",
       "Kurta            42067\n",
       "Western Dress    13275\n",
       "Top               9219\n",
       "Ethnic Dress       989\n",
       "Blouse             794\n",
       "Bottom             375\n",
       "Saree              142\n",
       "Dupatta              3\n",
       "Name: count, dtype: int64"
      ]
     },
     "execution_count": 59,
     "metadata": {},
     "output_type": "execute_result"
    }
   ],
   "source": [
    "# mencari tahu jumlah kemunculan masing-masing kategori tiap transaksi\n",
    "transaksi_df['Category'].value_counts()"
   ]
  },
  {
   "cell_type": "markdown",
   "metadata": {},
   "source": [
    "Mari kita lihat bagaimana grafik sales volume saat kita masukkan ke bar chart."
   ]
  },
  {
   "cell_type": "code",
   "execution_count": 60,
   "metadata": {},
   "outputs": [
    {
     "data": {
      "image/png": "[encoded data removed]",
      "text/plain": [
       "<Figure size 1200x700 with 1 Axes>"
      ]
     },
     "metadata": {},
     "output_type": "display_data"
    }
   ],
   "source": [
    "# mengatur ukuran figure\n",
    "plt.figure(figsize=(12,7))\n",
    "\n",
    "# membuat bar chart dan menambahkan warnanya\n",
    "ax =transaksi_df['Category'].value_counts().plot(kind='barh', color = ['orange', 'red', 'black', 'red','black', 'orange', 'purple']);\n",
    "\n",
    "# menambahkan label\n",
    "ax.bar_label(ax.containers[0]);"
   ]
  },
  {
   "cell_type": "markdown",
   "metadata": {},
   "source": [
    "- Tampak kurta (pakaian tradisional yang mirip sepert gamis, tetapi hanya sampai selutut) menjadi kategori yang terbanyak dibeli. Umumnya dipakai oleh pria.\n",
    "\n",
    "- Begitu pula dengan set, yakni pakaian tradisional yang biasanya merujuk pada salwar kameez set atau lehenga choli set yang biasanya dipakai wanita India.\n",
    "\n",
    "- Sebagai informasi memang seiring dengan menurunnya penggunaan saree untuk pakaian sehari-hari, pemakaian set (setelan) salwar bagi perempuan kian meningkat.\n",
    "\n",
    "- Informasi lengkapnya silakan klik link berikut.\n",
    "https://timesofindia.indiatimes.com/city/ahmedabad/demand-for-saris-in-cities-halves-in-a-decade/articleshow/93197217.cms "
   ]
  },
  {
   "cell_type": "markdown",
   "metadata": {},
   "source": [
    "Selain menggunakan bar chart, saya juga menampilkan data dengan pie chart untuk mengetahui proporsi tiap-tiap kategori produk."
   ]
  },
  {
   "cell_type": "code",
   "execution_count": 61,
   "metadata": {},
   "outputs": [
    {
     "data": {
      "image/png": "[encoded data removed]",
      "text/plain": [
       "<Figure size 900x700 with 1 Axes>"
      ]
     },
     "metadata": {},
     "output_type": "display_data"
    }
   ],
   "source": [
    "# mengatur ukuran figure\n",
    "plt.figure(figsize=(9,7))\n",
    "\n",
    "# membuat bar chart dan menambahkan warnanya\n",
    "ax =transaksi_df['Category'].value_counts().plot(kind='pie', autopct='%.2f%%');"
   ]
  },
  {
   "cell_type": "markdown",
   "metadata": {},
   "source": [
    "- Tampak kurta dan set menjadi mendominasi sales volume dengan akumulasi lebih dari 77 persen. Adapun sisanya kategori lain seperti atasan (Top), western dress, dan lainnya.\n",
    "\n",
    "- Dengan begini, kita bisa susun strategi pemasaran. Salah satunya memfokuskan upaya marketing pada produk-produk yang penjualannya tinggi."
   ]
  },
  {
   "cell_type": "markdown",
   "metadata": {},
   "source": [
    "## Sales Volume by Time Period\n",
    "\n",
    "Kita dapat melihat tren penjualan baik menurun atau meningkatnya penjualan dari periode waktu tertentu, dalam konteks ini tiap bulannya."
   ]
  },
  {
   "cell_type": "code",
   "execution_count": 62,
   "metadata": {},
   "outputs": [
    {
     "data": {
      "text/plain": [
       "Month\n",
       "3      152\n",
       "4    41594\n",
       "5    35809\n",
       "6    31919\n",
       "Name: Qty, dtype: int64"
      ]
     },
     "execution_count": 62,
     "metadata": {},
     "output_type": "execute_result"
    }
   ],
   "source": [
    "# menghitung volume by time period\n",
    "vol_by_period = transaksi_df.groupby('Month')['Qty'].sum()\n",
    "vol_by_period"
   ]
  },
  {
   "cell_type": "code",
   "execution_count": 63,
   "metadata": {},
   "outputs": [
    {
     "data": {
      "image/png": "[encoded data removed]",
      "text/plain": [
       "<Figure size 640x480 with 1 Axes>"
      ]
     },
     "metadata": {},
     "output_type": "display_data"
    }
   ],
   "source": [
    "# membuat plotnya\n",
    "plt.plot(vol_by_period.index, vol_by_period.values, marker='o')\n",
    "\n",
    "# menambahkan judul\n",
    "plt.title('Volume by Time Period')\n",
    "\n",
    "# menmbahkan label sumbu x dan y\n",
    "plt.xlabel('Bulan')\n",
    "plt.ylabel('Jumlah Pesanan');"
   ]
  },
  {
   "cell_type": "markdown",
   "metadata": {},
   "source": [
    "- Bulan ke-4 (April) merupakan peak season sejauh ini. Sales volume bahkan melebihi 40 ribu item. \n",
    "\n",
    "- Akan tetapi jumlahnya turun perlahan di bulan-bulan berikutnya."
   ]
  },
  {
   "cell_type": "markdown",
   "metadata": {},
   "source": [
    "## Sales Volume by Location"
   ]
  },
  {
   "cell_type": "markdown",
   "metadata": {},
   "source": [
    "Pada bagian ini, kita akan mencari tahu sales volume pada tiap-tiap state (negara bagian) di India dan insight apa yang bisa kita ketahui."
   ]
  },
  {
   "cell_type": "code",
   "execution_count": 64,
   "metadata": {},
   "outputs": [
    {
     "data": {
      "text/plain": [
       "ship-state\n",
       "Maharashtra           19001\n",
       "Karnataka             14856\n",
       "Tamil Nadu             9763\n",
       "Telangana              9577\n",
       "Uttar Pradesh          8890\n",
       "Delhi                  6014\n",
       "Kerala                 5364\n",
       "West Bengal            5007\n",
       "Andhra Pradesh         4506\n",
       "Gujarat                3846\n",
       "Haryana                3778\n",
       "Rajasthan              2319\n",
       "Madhya Pradesh         2123\n",
       "Odisha                 1773\n",
       "Bihar                  1751\n",
       "Punjab                 1649\n",
       "Assam                  1398\n",
       "Uttarakhand            1301\n",
       "Jharkhand              1203\n",
       "Goa                     999\n",
       "Chhattisgarh            775\n",
       "Himachal Pradesh        631\n",
       "Jammu & Kashmir         577\n",
       "Puducherry              295\n",
       "Chandigarh              291\n",
       "Manipur                 278\n",
       "Andaman & Nicobar       211\n",
       "Sikkim                  172\n",
       "Meghalaya               172\n",
       "Nagaland                165\n",
       "Tripura                 128\n",
       "Arunachal Pradesh       127\n",
       "Mizoram                  62\n",
       "Dadra And Nagar          58\n",
       "Ladakh                   36\n",
       "Unknown                  26\n",
       "Lakshadweep               3\n",
       "Name: count, dtype: int64"
      ]
     },
     "execution_count": 64,
     "metadata": {},
     "output_type": "execute_result"
    }
   ],
   "source": [
    "# menghitung tiap values pada ship-state\n",
    "transaksi_df['ship-state'].value_counts()"
   ]
  },
  {
   "cell_type": "code",
   "execution_count": 65,
   "metadata": {},
   "outputs": [
    {
     "data": {
      "image/png": "[encoded data removed]",
      "text/plain": [
       "<Figure size 1200x1000 with 1 Axes>"
      ]
     },
     "metadata": {},
     "output_type": "display_data"
    }
   ],
   "source": [
    "# mengatur ukuran figure\n",
    "plt.figure(figsize=(12,10))\n",
    "\n",
    "# membuat bar chart dan menambahkan warnanya\n",
    "ax = transaksi_df['ship-state'].value_counts().plot(kind='bar')"
   ]
  },
  {
   "cell_type": "markdown",
   "metadata": {},
   "source": [
    "- Maharashtra menjadi negara dengan sales volume terbanyak. Bukan tanpa alasan, Maharashtra merupakan negara bagian (state) dengan ekonomi terbesar di India.\n",
    "\n",
    "- Begitu pula dengan Kamataka yang terdapat pusat TI dan startup, Banglore, yang juga dikenal sebagai Silicon Valley India.\n",
    "\n",
    "- Maka dari itu, maklum jika masyarakat kedua negara bagian itu (khusunya di perkotaan) lebih sejahtera dan memiliki daya beli yang lebih tinggi dibanding negara bagian lainnya."
   ]
  },
  {
   "cell_type": "markdown",
   "metadata": {},
   "source": [
    "# Pengambilan Kesimpulan"
   ]
  },
  {
   "cell_type": "markdown",
   "metadata": {},
   "source": [
    "- Kategori maupun jenis produk sangat mempengaruhi jumlah transaksi.\n",
    "\n",
    "- Kategori produk unggulan seperti set dan kurta menjadi komoditas yang perlu dipertimbangkan untuk dilakukan strategi pemasaran.\n",
    "\n",
    "- Adapun produk-produk yang memiliki sales volume lebih kecil sebaiknya disesuaikan pengadaan maupun produksinya.\n",
    "\n",
    "- Ada 4 faktor yang mempengaruhi jumlah transaksi. Salah satunya jenis pengiriman cepat. Layanan ini bahkan disebut-sebut mempengaruhi kepuasan pelanggan. Maka itu, perlu dikaji lagi untuk kemudian diterapkan dalam strategi pemasaran.\n",
    "\n",
    "- Mengenai kebiasaan customer, kita bisa manfaatkan. Misalnya, customer yang melakukan total belanjanya di atas rata-rata bisa kita berikan penawaran menarik.\n",
    "\n",
    "- Kita bisa memanfaatkan momen-momen perayaan atau hari spesial untuk mendongkrak omzet melalui program menarik.\n",
    "\n",
    "- Secara geografis, kita juga bisa memberikan lebih banyak kemudahan di daerah-daerah yang memiliki daya beli tinggi. Contohnya gratis ongkir.\n",
    "\n",
    "- `Jika wawasan ini ditindaklanjuti menjadi strategi pemasaran niscaya kita bisa meningkatkan jumlah transaksi sebanyak 20 persen pada 6 bulan kemudian.`"
   ]
  }
 ],
 "metadata": {
  "kernelspec": {
   "display_name": "envi2",
   "language": "python",
   "name": "python3"
  },
  "language_info": {
   "codemirror_mode": {
    "name": "ipython",
    "version": 3
   },
   "file_extension": ".py",
   "mimetype": "text/x-python",
   "name": "python",
   "nbconvert_exporter": "python",
   "pygments_lexer": "ipython3",
   "version": "3.12.4"
  }
 },
 "nbformat": 4,
 "nbformat_minor": 2
}
